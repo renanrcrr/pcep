{
 "cells": [
  {
   "cell_type": "code",
   "execution_count": 1,
   "id": "29ff7f2c",
   "metadata": {},
   "outputs": [
    {
     "name": "stdout",
     "output_type": "stream",
     "text": [
      "What is your name?\n"
     ]
    }
   ],
   "source": [
    "print('What is your name?')"
   ]
  },
  {
   "cell_type": "code",
   "execution_count": 2,
   "id": "8dacdfe9",
   "metadata": {},
   "outputs": [
    {
     "name": "stdout",
     "output_type": "stream",
     "text": [
      "What is your name?\n",
      "Renan\n",
      "Hello, Renan\n"
     ]
    }
   ],
   "source": [
    "print('What is your name?')\n",
    "name = input()\n",
    "print('Hello,', name)"
   ]
  },
  {
   "cell_type": "code",
   "execution_count": 3,
   "id": "36256d96",
   "metadata": {},
   "outputs": [
    {
     "name": "stdout",
     "output_type": "stream",
     "text": [
      "Enter your login: dani\n",
      "Enter your native native language: Portugues\n",
      "Your login is dani and you speak Portugues\n"
     ]
    }
   ],
   "source": [
    "login = input('Enter your login: ')\n",
    "native_language = input('Enter your native native language: ')\n",
    "\n",
    "print('Your login is', login, 'and you speak', native_language)"
   ]
  },
  {
   "cell_type": "code",
   "execution_count": 4,
   "id": "6c2e3ab7",
   "metadata": {},
   "outputs": [
    {
     "name": "stdout",
     "output_type": "stream",
     "text": [
      "Enter your login: carlos\n",
      "Enter your native native language:ss\n",
      "Your login is carlos and you speak ss\n"
     ]
    }
   ],
   "source": [
    "login = input('Enter your login: ')\n",
    "native_language = input('Enter your native native language:')\n",
    "\n",
    "print('Your login is', login, 'and you speak', native_language)"
   ]
  },
  {
   "cell_type": "code",
   "execution_count": null,
   "id": "b2374acb",
   "metadata": {},
   "outputs": [],
   "source": []
  }
 ],
 "metadata": {
  "kernelspec": {
   "display_name": "Python 3 (ipykernel)",
   "language": "python",
   "name": "python3"
  },
  "language_info": {
   "codemirror_mode": {
    "name": "ipython",
    "version": 3
   },
   "file_extension": ".py",
   "mimetype": "text/x-python",
   "name": "python",
   "nbconvert_exporter": "python",
   "pygments_lexer": "ipython3",
   "version": "3.11.3"
  }
 },
 "nbformat": 4,
 "nbformat_minor": 5
}
