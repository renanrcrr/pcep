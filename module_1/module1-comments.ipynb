{
 "cells": [
  {
   "cell_type": "code",
   "execution_count": 1,
   "id": "ead29444",
   "metadata": {},
   "outputs": [
    {
     "ename": "NameError",
     "evalue": "name 'printy' is not defined",
     "output_type": "error",
     "traceback": [
      "\u001b[1;31m---------------------------------------------------------------------------\u001b[0m",
      "\u001b[1;31mNameError\u001b[0m                                 Traceback (most recent call last)",
      "Cell \u001b[1;32mIn[1], line 1\u001b[0m\n\u001b[1;32m----> 1\u001b[0m printy(\u001b[38;5;124m'\u001b[39m\u001b[38;5;124msample\u001b[39m\u001b[38;5;124m'\u001b[39m)\n",
      "\u001b[1;31mNameError\u001b[0m: name 'printy' is not defined"
     ]
    }
   ],
   "source": [
    "printy('sample') # headline"
   ]
  },
  {
   "cell_type": "code",
   "execution_count": 2,
   "id": "718339b0",
   "metadata": {},
   "outputs": [
    {
     "name": "stdout",
     "output_type": "stream",
     "text": [
      "sample\n"
     ]
    }
   ],
   "source": [
    "print('sample') # headline\n"
   ]
  },
  {
   "cell_type": "code",
   "execution_count": 3,
   "id": "777fa96e",
   "metadata": {},
   "outputs": [],
   "source": [
    "# note that\n",
    "var1 = 23"
   ]
  },
  {
   "cell_type": "code",
   "execution_count": null,
   "id": "2ad32026",
   "metadata": {},
   "outputs": [],
   "source": []
  }
 ],
 "metadata": {
  "kernelspec": {
   "display_name": "Python 3 (ipykernel)",
   "language": "python",
   "name": "python3"
  },
  "language_info": {
   "codemirror_mode": {
    "name": "ipython",
    "version": 3
   },
   "file_extension": ".py",
   "mimetype": "text/x-python",
   "name": "python",
   "nbconvert_exporter": "python",
   "pygments_lexer": "ipython3",
   "version": "3.11.3"
  }
 },
 "nbformat": 4,
 "nbformat_minor": 5
}
