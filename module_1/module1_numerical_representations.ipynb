{
 "cells": [
  {
   "cell_type": "code",
   "execution_count": 1,
   "id": "52e63b0d",
   "metadata": {},
   "outputs": [
    {
     "data": {
      "text/plain": [
       "1200300"
      ]
     },
     "execution_count": 1,
     "metadata": {},
     "output_type": "execute_result"
    }
   ],
   "source": [
    "# underscores in numbers\n",
    "1200300\n",
    "1200_300"
   ]
  },
  {
   "cell_type": "code",
   "execution_count": 2,
   "id": "3ae2246d",
   "metadata": {},
   "outputs": [
    {
     "data": {
      "text/plain": [
       "200300"
      ]
     },
     "execution_count": 2,
     "metadata": {},
     "output_type": "execute_result"
    }
   ],
   "source": [
    "200_300"
   ]
  },
  {
   "cell_type": "code",
   "execution_count": 3,
   "id": "b32f7539",
   "metadata": {},
   "outputs": [
    {
     "data": {
      "text/plain": [
       "30000.0"
      ]
     },
     "execution_count": 3,
     "metadata": {},
     "output_type": "execute_result"
    }
   ],
   "source": [
    "3e4"
   ]
  },
  {
   "cell_type": "code",
   "execution_count": 4,
   "id": "226068ca",
   "metadata": {},
   "outputs": [
    {
     "data": {
      "text/plain": [
       "30000.0"
      ]
     },
     "execution_count": 4,
     "metadata": {},
     "output_type": "execute_result"
    }
   ],
   "source": [
    "3E4"
   ]
  },
  {
   "cell_type": "code",
   "execution_count": 5,
   "id": "4b17fbda",
   "metadata": {},
   "outputs": [
    {
     "data": {
      "text/plain": [
       "0.0003"
      ]
     },
     "execution_count": 5,
     "metadata": {},
     "output_type": "execute_result"
    }
   ],
   "source": [
    "3e-4\n"
   ]
  },
  {
   "cell_type": "code",
   "execution_count": 6,
   "id": "e85b11a8",
   "metadata": {},
   "outputs": [
    {
     "data": {
      "text/plain": [
       "3e-28"
      ]
     },
     "execution_count": 6,
     "metadata": {},
     "output_type": "execute_result"
    }
   ],
   "source": [
    "3e-28"
   ]
  },
  {
   "cell_type": "code",
   "execution_count": 7,
   "id": "7dd27238",
   "metadata": {},
   "outputs": [
    {
     "data": {
      "text/plain": [
       "3e-27"
      ]
     },
     "execution_count": 7,
     "metadata": {},
     "output_type": "execute_result"
    }
   ],
   "source": [
    "3e-27"
   ]
  },
  {
   "cell_type": "code",
   "execution_count": 8,
   "id": "f1a3d649",
   "metadata": {},
   "outputs": [
    {
     "data": {
      "text/plain": [
       "3e-08"
      ]
     },
     "execution_count": 8,
     "metadata": {},
     "output_type": "execute_result"
    }
   ],
   "source": [
    "3e-8"
   ]
  },
  {
   "cell_type": "code",
   "execution_count": 9,
   "id": "37ddc81a",
   "metadata": {},
   "outputs": [
    {
     "name": "stdout",
     "output_type": "stream",
     "text": [
      "8e-24\n"
     ]
    }
   ],
   "source": [
    "print(0.000000000000000000000008)"
   ]
  },
  {
   "cell_type": "code",
   "execution_count": 10,
   "id": "94c884bd",
   "metadata": {},
   "outputs": [
    {
     "name": "stdout",
     "output_type": "stream",
     "text": [
      "8e-11\n"
     ]
    }
   ],
   "source": [
    "print(0.00000000008)"
   ]
  },
  {
   "cell_type": "code",
   "execution_count": 11,
   "id": "c839ca21",
   "metadata": {},
   "outputs": [
    {
     "data": {
      "text/plain": [
       "30000000000.0"
      ]
     },
     "execution_count": 11,
     "metadata": {},
     "output_type": "execute_result"
    }
   ],
   "source": [
    "3E10\n"
   ]
  },
  {
   "cell_type": "code",
   "execution_count": 12,
   "id": "a5e619ac",
   "metadata": {},
   "outputs": [
    {
     "data": {
      "text/plain": [
       "3e-10"
      ]
     },
     "execution_count": 12,
     "metadata": {},
     "output_type": "execute_result"
    }
   ],
   "source": [
    "3E-10"
   ]
  },
  {
   "cell_type": "code",
   "execution_count": 13,
   "id": "f3e335d4",
   "metadata": {},
   "outputs": [
    {
     "ename": "SyntaxError",
     "evalue": "invalid digit '8' in octal literal (78770560.py, line 1)",
     "output_type": "error",
     "traceback": [
      "\u001b[1;36m  Cell \u001b[1;32mIn[13], line 1\u001b[1;36m\u001b[0m\n\u001b[1;33m    print(0o8)\u001b[0m\n\u001b[1;37m            ^\u001b[0m\n\u001b[1;31mSyntaxError\u001b[0m\u001b[1;31m:\u001b[0m invalid digit '8' in octal literal\n"
     ]
    }
   ],
   "source": [
    "print(0o8)"
   ]
  },
  {
   "cell_type": "code",
   "execution_count": 14,
   "id": "8ce86341",
   "metadata": {},
   "outputs": [
    {
     "name": "stdout",
     "output_type": "stream",
     "text": [
      "83\n"
     ]
    }
   ],
   "source": [
    "print(0o123)"
   ]
  },
  {
   "cell_type": "code",
   "execution_count": 15,
   "id": "1cf7ec63",
   "metadata": {},
   "outputs": [
    {
     "name": "stdout",
     "output_type": "stream",
     "text": [
      "291\n"
     ]
    }
   ],
   "source": [
    "print(0x123)"
   ]
  },
  {
   "cell_type": "code",
   "execution_count": null,
   "id": "7166cfe6",
   "metadata": {},
   "outputs": [],
   "source": []
  }
 ],
 "metadata": {
  "kernelspec": {
   "display_name": "Python 3 (ipykernel)",
   "language": "python",
   "name": "python3"
  },
  "language_info": {
   "codemirror_mode": {
    "name": "ipython",
    "version": 3
   },
   "file_extension": ".py",
   "mimetype": "text/x-python",
   "name": "python",
   "nbconvert_exporter": "python",
   "pygments_lexer": "ipython3",
   "version": "3.11.3"
  }
 },
 "nbformat": 4,
 "nbformat_minor": 5
}
