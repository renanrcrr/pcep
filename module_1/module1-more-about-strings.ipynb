{
 "cells": [
  {
   "cell_type": "code",
   "execution_count": 1,
   "id": "fc13d810",
   "metadata": {},
   "outputs": [
    {
     "name": "stdout",
     "output_type": "stream",
     "text": [
      "Hello\n"
     ]
    }
   ],
   "source": [
    "print(\"Hello\")"
   ]
  },
  {
   "cell_type": "code",
   "execution_count": 2,
   "id": "7cfc5110",
   "metadata": {},
   "outputs": [
    {
     "name": "stdout",
     "output_type": "stream",
     "text": [
      "Hello\n"
     ]
    }
   ],
   "source": [
    "print('Hello')"
   ]
  },
  {
   "cell_type": "code",
   "execution_count": 3,
   "id": "a7e7f0e2",
   "metadata": {},
   "outputs": [
    {
     "name": "stdout",
     "output_type": "stream",
     "text": [
      "I'm Renan\n"
     ]
    }
   ],
   "source": [
    "print(\"I'm Renan\")"
   ]
  },
  {
   "cell_type": "code",
   "execution_count": 4,
   "id": "1fda81c3",
   "metadata": {},
   "outputs": [
    {
     "ename": "SyntaxError",
     "evalue": "unterminated string literal (detected at line 1) (4287831228.py, line 1)",
     "output_type": "error",
     "traceback": [
      "\u001b[1;36m  Cell \u001b[1;32mIn[4], line 1\u001b[1;36m\u001b[0m\n\u001b[1;33m    print('I'm Renan')\u001b[0m\n\u001b[1;37m                    ^\u001b[0m\n\u001b[1;31mSyntaxError\u001b[0m\u001b[1;31m:\u001b[0m unterminated string literal (detected at line 1)\n"
     ]
    }
   ],
   "source": [
    "print('I'm Renan')"
   ]
  },
  {
   "cell_type": "code",
   "execution_count": 5,
   "id": "e5d28a46",
   "metadata": {},
   "outputs": [
    {
     "name": "stdout",
     "output_type": "stream",
     "text": [
      "I'm Renan\n"
     ]
    }
   ],
   "source": [
    "print('I\\'m Renan')\n"
   ]
  },
  {
   "cell_type": "code",
   "execution_count": 6,
   "id": "4cc5f0e6",
   "metadata": {},
   "outputs": [
    {
     "ename": "SyntaxError",
     "evalue": "invalid syntax (682526469.py, line 1)",
     "output_type": "error",
     "traceback": [
      "\u001b[1;36m  Cell \u001b[1;32mIn[6], line 1\u001b[1;36m\u001b[0m\n\u001b[1;33m    print('I\\'m Renan') print('Rodrigues')\u001b[0m\n\u001b[1;37m                        ^\u001b[0m\n\u001b[1;31mSyntaxError\u001b[0m\u001b[1;31m:\u001b[0m invalid syntax\n"
     ]
    }
   ],
   "source": [
    "        print('I\\'m Renan') print('Rodrigues')"
   ]
  },
  {
   "cell_type": "code",
   "execution_count": 7,
   "id": "f1640226",
   "metadata": {},
   "outputs": [
    {
     "name": "stdout",
     "output_type": "stream",
     "text": [
      "I'm Renan\n",
      "Rodrigues\n"
     ]
    }
   ],
   "source": [
    "print('I\\'m Renan') \n",
    "print('Rodrigues')"
   ]
  },
  {
   "cell_type": "code",
   "execution_count": 8,
   "id": "242f8e18",
   "metadata": {},
   "outputs": [
    {
     "name": "stdout",
     "output_type": "stream",
     "text": [
      "I'm Renan\n",
      "\n",
      "Rodrigues\n"
     ]
    }
   ],
   "source": [
    "print('I\\'m Renan') \n",
    "print()\n",
    "print('Rodrigues')"
   ]
  },
  {
   "cell_type": "code",
   "execution_count": 9,
   "id": "c0b15a77",
   "metadata": {},
   "outputs": [
    {
     "name": "stdout",
     "output_type": "stream",
     "text": [
      "I'm Renan Rodrigues\n"
     ]
    }
   ],
   "source": [
    "print('I\\'m Renan', 'Rodrigues') \n"
   ]
  },
  {
   "cell_type": "code",
   "execution_count": 10,
   "id": "b78dc317",
   "metadata": {},
   "outputs": [
    {
     "name": "stdout",
     "output_type": "stream",
     "text": [
      "I'm Renan \n",
      "Rodrigues\n"
     ]
    }
   ],
   "source": [
    "print('I\\'m Renan \\nRodrigues') "
   ]
  },
  {
   "cell_type": "code",
   "execution_count": null,
   "id": "650e54e3",
   "metadata": {},
   "outputs": [],
   "source": []
  }
 ],
 "metadata": {
  "kernelspec": {
   "display_name": "Python 3 (ipykernel)",
   "language": "python",
   "name": "python3"
  },
  "language_info": {
   "codemirror_mode": {
    "name": "ipython",
    "version": 3
   },
   "file_extension": ".py",
   "mimetype": "text/x-python",
   "name": "python",
   "nbconvert_exporter": "python",
   "pygments_lexer": "ipython3",
   "version": "3.11.3"
  }
 },
 "nbformat": 4,
 "nbformat_minor": 5
}
