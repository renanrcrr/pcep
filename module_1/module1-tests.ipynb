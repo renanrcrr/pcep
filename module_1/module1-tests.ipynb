{
 "cells": [
  {
   "cell_type": "code",
   "execution_count": 1,
   "id": "d7974d0a",
   "metadata": {},
   "outputs": [
    {
     "name": "stdout",
     "output_type": "stream",
     "text": [
      "3 1\n"
     ]
    }
   ],
   "source": [
    "x = 11\n",
    "y = 4\n",
    "x = x % y\n",
    "x = x % y\n",
    "y = y % x\n",
    "print(x, y)"
   ]
  },
  {
   "cell_type": "code",
   "execution_count": 2,
   "id": "3abdc3c6",
   "metadata": {},
   "outputs": [],
   "source": [
    "x = 11\n",
    "y = 4"
   ]
  },
  {
   "cell_type": "code",
   "execution_count": 3,
   "id": "a1fed9ba",
   "metadata": {},
   "outputs": [],
   "source": [
    "x = x % y"
   ]
  },
  {
   "cell_type": "code",
   "execution_count": 4,
   "id": "bfb70b4f",
   "metadata": {},
   "outputs": [
    {
     "name": "stdout",
     "output_type": "stream",
     "text": [
      "3\n"
     ]
    }
   ],
   "source": [
    "print(x)"
   ]
  },
  {
   "cell_type": "code",
   "execution_count": 5,
   "id": "a842198a",
   "metadata": {},
   "outputs": [],
   "source": [
    "x = x % y # 3 % 4 = 4"
   ]
  },
  {
   "cell_type": "code",
   "execution_count": 6,
   "id": "1e3fa169",
   "metadata": {},
   "outputs": [
    {
     "name": "stdout",
     "output_type": "stream",
     "text": [
      "3\n"
     ]
    }
   ],
   "source": [
    "print(x)\n"
   ]
  },
  {
   "cell_type": "code",
   "execution_count": 7,
   "id": "2e5e926f",
   "metadata": {},
   "outputs": [
    {
     "name": "stdout",
     "output_type": "stream",
     "text": [
      "3\n",
      "4\n"
     ]
    }
   ],
   "source": [
    "x = 11\n",
    "y = 4\n",
    "x = x % y\n",
    "x = x % y\n",
    "print(x)\n",
    "print(y)"
   ]
  },
  {
   "cell_type": "code",
   "execution_count": 8,
   "id": "baedae00",
   "metadata": {},
   "outputs": [],
   "source": [
    "y = y % x"
   ]
  },
  {
   "cell_type": "code",
   "execution_count": 9,
   "id": "7d06d882",
   "metadata": {},
   "outputs": [
    {
     "name": "stdout",
     "output_type": "stream",
     "text": [
      "3\n",
      "4\n"
     ]
    }
   ],
   "source": [
    "x = 11\n",
    "y = 4\n",
    "x = x % y\n",
    "x = x % y\n",
    "x = x % y\n",
    "print(x)\n",
    "print(y)"
   ]
  },
  {
   "cell_type": "code",
   "execution_count": 10,
   "id": "2d9d6d63",
   "metadata": {},
   "outputs": [
    {
     "name": "stdout",
     "output_type": "stream",
     "text": [
      "11 4\n"
     ]
    }
   ],
   "source": [
    "a = 11\n",
    "b = 4\n",
    "print(a, b)"
   ]
  },
  {
   "cell_type": "code",
   "execution_count": 11,
   "id": "599fa05b",
   "metadata": {},
   "outputs": [
    {
     "name": "stdout",
     "output_type": "stream",
     "text": [
      "3 4\n"
     ]
    }
   ],
   "source": [
    "a = 11\n",
    "b = 4\n",
    "a = a % b\n",
    "print(a, b)"
   ]
  },
  {
   "cell_type": "code",
   "execution_count": 12,
   "id": "2fa99a08",
   "metadata": {},
   "outputs": [
    {
     "name": "stdout",
     "output_type": "stream",
     "text": [
      "3 4\n"
     ]
    }
   ],
   "source": [
    "a = 11\n",
    "b = 4\n",
    "a = a % b # update the a value to 3\n",
    "a = a % b # ?\n",
    "print(a, b)"
   ]
  },
  {
   "cell_type": "code",
   "execution_count": 13,
   "id": "4f2e150d",
   "metadata": {},
   "outputs": [
    {
     "name": "stdout",
     "output_type": "stream",
     "text": [
      "1 4\n"
     ]
    }
   ],
   "source": [
    "a = 11\n",
    "b = 4\n",
    "c = 2\n",
    "a = a % b # update the a value to 3\n",
    "a = a % c # ?\n",
    "print(a, b)"
   ]
  },
  {
   "cell_type": "code",
   "execution_count": 14,
   "id": "d84ae1d4",
   "metadata": {},
   "outputs": [
    {
     "name": "stdout",
     "output_type": "stream",
     "text": [
      "1 4 2\n"
     ]
    }
   ],
   "source": [
    "a = 11\n",
    "b = 4\n",
    "a = a % b # update the a value to 3\n",
    "a = a % b # ?\n",
    "a = a % c # ?\n",
    "print(a, b, c)\n"
   ]
  },
  {
   "cell_type": "code",
   "execution_count": 15,
   "id": "a96a2d98",
   "metadata": {},
   "outputs": [
    {
     "name": "stdout",
     "output_type": "stream",
     "text": [
      "1 4 2\n"
     ]
    }
   ],
   "source": [
    "a = 11\n",
    "b = 4\n",
    "c = 2\n",
    "a = a % b # update the a value to 3\n",
    "a = a % b # ?\n",
    "a = a % c # ?\n",
    "print(a, b, c)\n"
   ]
  },
  {
   "cell_type": "code",
   "execution_count": 16,
   "id": "21644c03",
   "metadata": {},
   "outputs": [
    {
     "data": {
      "text/plain": [
       "2.0"
      ]
     },
     "execution_count": 16,
     "metadata": {},
     "output_type": "execute_result"
    }
   ],
   "source": [
    "6 / 3\n"
   ]
  },
  {
   "cell_type": "code",
   "execution_count": 17,
   "id": "82c1d89f",
   "metadata": {},
   "outputs": [
    {
     "data": {
      "text/plain": [
       "2.0"
      ]
     },
     "execution_count": 17,
     "metadata": {},
     "output_type": "execute_result"
    }
   ],
   "source": [
    "6.0 / 3"
   ]
  },
  {
   "cell_type": "code",
   "execution_count": 18,
   "id": "b35a398e",
   "metadata": {},
   "outputs": [
    {
     "data": {
      "text/plain": [
       "2.0"
      ]
     },
     "execution_count": 18,
     "metadata": {},
     "output_type": "execute_result"
    }
   ],
   "source": [
    "6 / 3.0"
   ]
  },
  {
   "cell_type": "code",
   "execution_count": 19,
   "id": "0aef732c",
   "metadata": {},
   "outputs": [
    {
     "data": {
      "text/plain": [
       "2.0"
      ]
     },
     "execution_count": 19,
     "metadata": {},
     "output_type": "execute_result"
    }
   ],
   "source": [
    "6.0 / 3.0"
   ]
  },
  {
   "cell_type": "code",
   "execution_count": 2,
   "id": "695c74df",
   "metadata": {},
   "outputs": [
    {
     "name": "stdout",
     "output_type": "stream",
     "text": [
      "3.6e+21\n"
     ]
    }
   ],
   "source": [
    "print(36. * 100000000000000000000)"
   ]
  },
  {
   "cell_type": "code",
   "execution_count": 4,
   "id": "ce6e5d18",
   "metadata": {},
   "outputs": [
    {
     "name": "stdout",
     "output_type": "stream",
     "text": [
      "['a', 4, 3, 'a', 4, 3, 'a', 4, 3]\n"
     ]
    }
   ],
   "source": [
    "lst = ['a', 2 * 2, 3] * 3\n",
    "print(lst)"
   ]
  },
  {
   "cell_type": "code",
   "execution_count": 5,
   "id": "fcbb0252",
   "metadata": {},
   "outputs": [
    {
     "name": "stdout",
     "output_type": "stream",
     "text": [
      "i\n",
      "n\n"
     ]
    }
   ],
   "source": [
    "greeting = 'interview'\n",
    "for ch in greeting:\n",
    "  if ch == 't':\n",
    "    break\n",
    "  print(ch)\n",
    "else:\n",
    "  print('Done!')"
   ]
  },
  {
   "cell_type": "code",
   "execution_count": 6,
   "id": "f940a502",
   "metadata": {},
   "outputs": [
    {
     "name": "stdout",
     "output_type": "stream",
     "text": [
      "26\n"
     ]
    }
   ],
   "source": [
    "var = 10\n",
    "for i in range(15):\n",
    "    for j in range(2, 10, 1):\n",
    "        if var % 2 == 0:\n",
    "            continue\n",
    "            var += 1\n",
    "    var+=1\n",
    "else:\n",
    "    var+=1\n",
    "print(var)"
   ]
  },
  {
   "cell_type": "code",
   "execution_count": 13,
   "id": "2e848f24",
   "metadata": {},
   "outputs": [
    {
     "name": "stdout",
     "output_type": "stream",
     "text": [
      "4\n"
     ]
    }
   ],
   "source": [
    "print(8 % 3 ** 4 // 3 + 2)"
   ]
  },
  {
   "cell_type": "code",
   "execution_count": 14,
   "id": "2b2621b5",
   "metadata": {},
   "outputs": [
    {
     "name": "stdout",
     "output_type": "stream",
     "text": [
      "True\n"
     ]
    }
   ],
   "source": [
    "dict1 = {'Adam': 25, 'Hobby': 'Sport'}\n",
    "dict2 = {'Hobby': 'Sport', 'Adam': 25}\n",
    "print(dict1 == dict2)"
   ]
  },
  {
   "cell_type": "code",
   "execution_count": 15,
   "id": "cf2b5d3b",
   "metadata": {},
   "outputs": [
    {
     "ename": "TypeError",
     "evalue": "'str' object does not support item assignment",
     "output_type": "error",
     "traceback": [
      "\u001b[1;31m---------------------------------------------------------------------------\u001b[0m",
      "\u001b[1;31mTypeError\u001b[0m                                 Traceback (most recent call last)",
      "Cell \u001b[1;32mIn[15], line 2\u001b[0m\n\u001b[0;32m      1\u001b[0m title \u001b[38;5;241m=\u001b[39m \u001b[38;5;124m'\u001b[39m\u001b[38;5;124mWelcomE\u001b[39m\u001b[38;5;124m'\u001b[39m\n\u001b[1;32m----> 2\u001b[0m title[\u001b[38;5;241m6\u001b[39m] \u001b[38;5;241m=\u001b[39m \u001b[38;5;124m'\u001b[39m\u001b[38;5;124me\u001b[39m\u001b[38;5;124m'\u001b[39m\n\u001b[0;32m      3\u001b[0m \u001b[38;5;28mprint\u001b[39m(title)\n",
      "\u001b[1;31mTypeError\u001b[0m: 'str' object does not support item assignment"
     ]
    }
   ],
   "source": [
    "title = 'WelcomE'\n",
    "title[6] = 'e'\n",
    "print(title)"
   ]
  },
  {
   "cell_type": "code",
   "execution_count": 16,
   "id": "6bd877de",
   "metadata": {},
   "outputs": [
    {
     "name": "stdout",
     "output_type": "stream",
     "text": [
      "13\n",
      "False\n"
     ]
    }
   ],
   "source": [
    "age = input()\n",
    "print(age == 13)"
   ]
  },
  {
   "cell_type": "code",
   "execution_count": 17,
   "id": "db6fddd2",
   "metadata": {},
   "outputs": [
    {
     "ename": "KeyError",
     "evalue": "20",
     "output_type": "error",
     "traceback": [
      "\u001b[1;31m---------------------------------------------------------------------------\u001b[0m",
      "\u001b[1;31mKeyError\u001b[0m                                  Traceback (most recent call last)",
      "Cell \u001b[1;32mIn[17], line 2\u001b[0m\n\u001b[0;32m      1\u001b[0m names \u001b[38;5;241m=\u001b[39m {\u001b[38;5;124m'\u001b[39m\u001b[38;5;124mTom\u001b[39m\u001b[38;5;124m'\u001b[39m: \u001b[38;5;241m10\u001b[39m, \u001b[38;5;124m'\u001b[39m\u001b[38;5;124mMary\u001b[39m\u001b[38;5;124m'\u001b[39m: \u001b[38;5;241m20\u001b[39m}\n\u001b[1;32m----> 2\u001b[0m names[\u001b[38;5;241m20\u001b[39m]\n",
      "\u001b[1;31mKeyError\u001b[0m: 20"
     ]
    }
   ],
   "source": [
    "names = {'Tom': 10, 'Mary': 20}\n",
    "names[20]\n"
   ]
  },
  {
   "cell_type": "code",
   "execution_count": null,
   "id": "b188b1fa",
   "metadata": {},
   "outputs": [],
   "source": []
  }
 ],
 "metadata": {
  "kernelspec": {
   "display_name": "Python 3 (ipykernel)",
   "language": "python",
   "name": "python3"
  },
  "language_info": {
   "codemirror_mode": {
    "name": "ipython",
    "version": 3
   },
   "file_extension": ".py",
   "mimetype": "text/x-python",
   "name": "python",
   "nbconvert_exporter": "python",
   "pygments_lexer": "ipython3",
   "version": "3.11.3"
  }
 },
 "nbformat": 4,
 "nbformat_minor": 5
}
