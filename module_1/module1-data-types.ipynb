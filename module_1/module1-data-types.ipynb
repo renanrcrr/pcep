{
 "cells": [
  {
   "cell_type": "code",
   "execution_count": 1,
   "id": "9ecc8856",
   "metadata": {},
   "outputs": [],
   "source": [
    "greeting = 'Hello'\n"
   ]
  },
  {
   "cell_type": "code",
   "execution_count": 2,
   "id": "fa820a7f",
   "metadata": {},
   "outputs": [],
   "source": [
    "age = 37"
   ]
  },
  {
   "cell_type": "code",
   "execution_count": 3,
   "id": "0943f4e4",
   "metadata": {},
   "outputs": [],
   "source": [
    "speed = 67.5\n"
   ]
  },
  {
   "cell_type": "code",
   "execution_count": null,
   "id": "3c24470e",
   "metadata": {},
   "outputs": [],
   "source": [
    "speed2 = 3."
   ]
  }
 ],
 "metadata": {
  "kernelspec": {
   "display_name": "Python 3 (ipykernel)",
   "language": "python",
   "name": "python3"
  },
  "language_info": {
   "codemirror_mode": {
    "name": "ipython",
    "version": 3
   },
   "file_extension": ".py",
   "mimetype": "text/x-python",
   "name": "python",
   "nbconvert_exporter": "python",
   "pygments_lexer": "ipython3",
   "version": "3.11.3"
  }
 },
 "nbformat": 4,
 "nbformat_minor": 5
}
