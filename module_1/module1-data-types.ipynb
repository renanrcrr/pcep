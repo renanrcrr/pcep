{
 "cells": [
  {
   "cell_type": "code",
   "execution_count": 1,
   "id": "9ecc8856",
   "metadata": {},
   "outputs": [],
   "source": [
    "greeting = 'Hello'\n",
    "gretting = \"                                                            HI\""
   ]
  },
  {
   "cell_type": "code",
   "execution_count": 2,
   "id": "fa820a7f",
   "metadata": {},
   "outputs": [],
   "source": [
    "age = 37\n",
    "age2 = 8000000000000000000000000000000000000000000000"
   ]
  },
  {
   "cell_type": "code",
   "execution_count": 3,
   "id": "0943f4e4",
   "metadata": {},
   "outputs": [],
   "source": [
    "speed = 67.5\n",
    "speed2 = 3.\n",
    "speed3 = 6.9\n",
    "speed4 = .0000000000000000000000000000000000000000001"
   ]
  },
  {
   "cell_type": "code",
   "execution_count": 6,
   "id": "3c24470e",
   "metadata": {},
   "outputs": [],
   "source": [
    "string1 = \"a\"\n",
    "STRINg2 = 'b'\n",
    "String = \"'c'\""
   ]
  },
  {
   "cell_type": "code",
   "execution_count": null,
   "id": "816b882b",
   "metadata": {},
   "outputs": [],
   "source": []
  }
 ],
 "metadata": {
  "kernelspec": {
   "display_name": "Python 3 (ipykernel)",
   "language": "python",
   "name": "python3"
  },
  "language_info": {
   "codemirror_mode": {
    "name": "ipython",
    "version": 3
   },
   "file_extension": ".py",
   "mimetype": "text/x-python",
   "name": "python",
   "nbconvert_exporter": "python",
   "pygments_lexer": "ipython3",
   "version": "3.11.3"
  }
 },
 "nbformat": 4,
 "nbformat_minor": 5
}
