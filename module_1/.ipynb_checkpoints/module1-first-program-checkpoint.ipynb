{
 "cells": [
  {
   "cell_type": "code",
   "execution_count": 1,
   "id": "358fc324",
   "metadata": {},
   "outputs": [
    {
     "name": "stdout",
     "output_type": "stream",
     "text": [
      "hello world!\n"
     ]
    }
   ],
   "source": [
    "print(\"hello world!\")"
   ]
  },
  {
   "cell_type": "code",
   "execution_count": 12,
   "id": "efd61b66",
   "metadata": {},
   "outputs": [
    {
     "name": "stdout",
     "output_type": "stream",
     "text": [
      "heymy name          is JOSE                   \n"
     ]
    }
   ],
   "source": [
    "print('hey' + 'my name' , '         is' + \" JOSE                   \")"
   ]
  },
  {
   "cell_type": "code",
   "execution_count": 11,
   "id": "f484759d",
   "metadata": {},
   "outputs": [
    {
     "name": "stdout",
     "output_type": "stream",
     "text": [
      "14 7\n"
     ]
    }
   ],
   "source": [
    "print(8                   +6 , \"7\")"
   ]
  },
  {
   "cell_type": "code",
   "execution_count": 15,
   "id": "2b0831df",
   "metadata": {},
   "outputs": [
    {
     "name": "stdout",
     "output_type": "stream",
     "text": [
      "\n",
      "\n",
      "\n",
      "\t\n"
     ]
    }
   ],
   "source": [
    "print(\"\\n\\n\\n\\t\")"
   ]
  },
  {
   "cell_type": "code",
   "execution_count": 16,
   "id": "2f5cec05",
   "metadata": {},
   "outputs": [
    {
     "name": "stdout",
     "output_type": "stream",
     "text": [
      "\n"
     ]
    }
   ],
   "source": [
    "print(\"\")"
   ]
  },
  {
   "cell_type": "code",
   "execution_count": null,
   "id": "2a71c8cb",
   "metadata": {},
   "outputs": [],
   "source": []
  }
 ],
 "metadata": {
  "kernelspec": {
   "display_name": "Python 3 (ipykernel)",
   "language": "python",
   "name": "python3"
  },
  "language_info": {
   "codemirror_mode": {
    "name": "ipython",
    "version": 3
   },
   "file_extension": ".py",
   "mimetype": "text/x-python",
   "name": "python",
   "nbconvert_exporter": "python",
   "pygments_lexer": "ipython3",
   "version": "3.11.3"
  }
 },
 "nbformat": 4,
 "nbformat_minor": 5
}
