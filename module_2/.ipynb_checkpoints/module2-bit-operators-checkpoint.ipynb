{
 "cells": [
  {
   "cell_type": "code",
   "execution_count": 5,
   "id": "2ac27a47",
   "metadata": {},
   "outputs": [
    {
     "name": "stdout",
     "output_type": "stream",
     "text": [
      "0\n"
     ]
    }
   ],
   "source": [
    "first = 1\n",
    "second = 0\n",
    "third = 1\n",
    "\n",
    "print(first & second & third)"
   ]
  },
  {
   "cell_type": "code",
   "execution_count": 4,
   "id": "9f812787",
   "metadata": {},
   "outputs": [
    {
     "name": "stdout",
     "output_type": "stream",
     "text": [
      "1\n"
     ]
    }
   ],
   "source": [
    "first = 1\n",
    "second = 0\n",
    "\n",
    "print(first | second)"
   ]
  },
  {
   "cell_type": "code",
   "execution_count": 7,
   "id": "6974ee33",
   "metadata": {},
   "outputs": [
    {
     "name": "stdout",
     "output_type": "stream",
     "text": [
      "0\n"
     ]
    }
   ],
   "source": [
    "first = 1\n",
    "second = 1\n",
    "\n",
    "print(first ^ second)"
   ]
  },
  {
   "cell_type": "code",
   "execution_count": 14,
   "id": "37bda6cf",
   "metadata": {},
   "outputs": [
    {
     "name": "stdout",
     "output_type": "stream",
     "text": [
      "-10\n"
     ]
    }
   ],
   "source": [
    "print(~~~9)"
   ]
  },
  {
   "cell_type": "code",
   "execution_count": 11,
   "id": "358188d5",
   "metadata": {},
   "outputs": [
    {
     "data": {
      "text/plain": [
       "4"
      ]
     },
     "execution_count": 11,
     "metadata": {},
     "output_type": "execute_result"
    }
   ],
   "source": [
    "2 << 1"
   ]
  },
  {
   "cell_type": "code",
   "execution_count": 16,
   "id": "2f4711a3",
   "metadata": {},
   "outputs": [
    {
     "data": {
      "text/plain": [
       "12"
      ]
     },
     "execution_count": 16,
     "metadata": {},
     "output_type": "execute_result"
    }
   ],
   "source": [
    "3 << 2"
   ]
  },
  {
   "cell_type": "code",
   "execution_count": 13,
   "id": "926d52b0",
   "metadata": {},
   "outputs": [
    {
     "data": {
      "text/plain": [
       "16"
      ]
     },
     "execution_count": 13,
     "metadata": {},
     "output_type": "execute_result"
    }
   ],
   "source": [
    "2 << 3"
   ]
  },
  {
   "cell_type": "code",
   "execution_count": 14,
   "id": "e0856080",
   "metadata": {},
   "outputs": [
    {
     "data": {
      "text/plain": [
       "32"
      ]
     },
     "execution_count": 14,
     "metadata": {},
     "output_type": "execute_result"
    }
   ],
   "source": [
    "2 << 4"
   ]
  },
  {
   "cell_type": "code",
   "execution_count": 16,
   "id": "7fc7c969",
   "metadata": {},
   "outputs": [
    {
     "data": {
      "text/plain": [
       "40"
      ]
     },
     "execution_count": 16,
     "metadata": {},
     "output_type": "execute_result"
    }
   ],
   "source": [
    "20 << 1"
   ]
  },
  {
   "cell_type": "code",
   "execution_count": 17,
   "id": "95e8fcce",
   "metadata": {},
   "outputs": [
    {
     "data": {
      "text/plain": [
       "3"
      ]
     },
     "execution_count": 17,
     "metadata": {},
     "output_type": "execute_result"
    }
   ],
   "source": [
    "12 >> 2"
   ]
  },
  {
   "cell_type": "code",
   "execution_count": null,
   "id": "81373acc",
   "metadata": {},
   "outputs": [],
   "source": []
  }
 ],
 "metadata": {
  "kernelspec": {
   "display_name": "Python 3 (ipykernel)",
   "language": "python",
   "name": "python3"
  },
  "language_info": {
   "codemirror_mode": {
    "name": "ipython",
    "version": 3
   },
   "file_extension": ".py",
   "mimetype": "text/x-python",
   "name": "python",
   "nbconvert_exporter": "python",
   "pygments_lexer": "ipython3",
   "version": "3.11.3"
  }
 },
 "nbformat": 4,
 "nbformat_minor": 5
}
