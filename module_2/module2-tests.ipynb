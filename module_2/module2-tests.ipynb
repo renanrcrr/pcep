{
 "cells": [
  {
   "cell_type": "code",
   "execution_count": 1,
   "id": "7f6b2d33",
   "metadata": {},
   "outputs": [
    {
     "name": "stdout",
     "output_type": "stream",
     "text": [
      "First number: 13\n",
      "Second number: 3\n",
      "1 0\n"
     ]
    }
   ],
   "source": [
    "a = int(input('First number: '))\n",
    "b = int(input('Second number: '))\n",
    " \n",
    "a = a % b # a = 1\n",
    "b = b % a # b = 0\n",
    " \n",
    "print(a, b)"
   ]
  },
  {
   "cell_type": "markdown",
   "id": "3dde1aca",
   "metadata": {},
   "source": [
    "# 1 / 2\n"
   ]
  },
  {
   "cell_type": "code",
   "execution_count": 3,
   "id": "ca21e675",
   "metadata": {},
   "outputs": [
    {
     "data": {
      "text/plain": [
       "0"
      ]
     },
     "execution_count": 3,
     "metadata": {},
     "output_type": "execute_result"
    }
   ],
   "source": [
    "1 // 2"
   ]
  },
  {
   "cell_type": "code",
   "execution_count": 4,
   "id": "da0df811",
   "metadata": {},
   "outputs": [
    {
     "data": {
      "text/plain": [
       "2.0"
      ]
     },
     "execution_count": 4,
     "metadata": {},
     "output_type": "execute_result"
    }
   ],
   "source": [
    "2 / 1"
   ]
  },
  {
   "cell_type": "code",
   "execution_count": 5,
   "id": "34b391ec",
   "metadata": {},
   "outputs": [
    {
     "data": {
      "text/plain": [
       "2"
      ]
     },
     "execution_count": 5,
     "metadata": {},
     "output_type": "execute_result"
    }
   ],
   "source": [
    "2 // 1"
   ]
  },
  {
   "cell_type": "code",
   "execution_count": 6,
   "id": "76a56676",
   "metadata": {},
   "outputs": [
    {
     "ename": "SyntaxError",
     "evalue": "positional argument follows keyword argument (2422758299.py, line 2)",
     "output_type": "error",
     "traceback": [
      "\u001b[1;36m  Cell \u001b[1;32mIn[6], line 2\u001b[1;36m\u001b[0m\n\u001b[1;33m    print(sep=' - ', 'Your first name is', first_name, 'Welcome!')\u001b[0m\n\u001b[1;37m                                                                 ^\u001b[0m\n\u001b[1;31mSyntaxError\u001b[0m\u001b[1;31m:\u001b[0m positional argument follows keyword argument\n"
     ]
    }
   ],
   "source": [
    "first_name = 'John'\n",
    "print(sep=' - ', 'Your first name is', first_name, 'Welcome!')"
   ]
  },
  {
   "cell_type": "code",
   "execution_count": 7,
   "id": "d4e0ea8e",
   "metadata": {},
   "outputs": [
    {
     "name": "stdout",
     "output_type": "stream",
     "text": [
      "Your first name is - John - Welcome!\n"
     ]
    }
   ],
   "source": [
    "first_name = 'John'\n",
    "print('Your first name is', first_name, 'Welcome!', sep=' - ')"
   ]
  },
  {
   "cell_type": "code",
   "execution_count": null,
   "id": "016bb2c2",
   "metadata": {},
   "outputs": [],
   "source": []
  }
 ],
 "metadata": {
  "kernelspec": {
   "display_name": "Python 3 (ipykernel)",
   "language": "python",
   "name": "python3"
  },
  "language_info": {
   "codemirror_mode": {
    "name": "ipython",
    "version": 3
   },
   "file_extension": ".py",
   "mimetype": "text/x-python",
   "name": "python",
   "nbconvert_exporter": "python",
   "pygments_lexer": "ipython3",
   "version": "3.11.3"
  }
 },
 "nbformat": 4,
 "nbformat_minor": 5
}
