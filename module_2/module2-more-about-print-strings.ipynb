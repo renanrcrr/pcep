{
 "cells": [
  {
   "cell_type": "code",
   "execution_count": 1,
   "id": "ec042e7c",
   "metadata": {},
   "outputs": [
    {
     "data": {
      "text/plain": [
       "5"
      ]
     },
     "execution_count": 1,
     "metadata": {},
     "output_type": "execute_result"
    }
   ],
   "source": [
    "len('Hello')"
   ]
  },
  {
   "cell_type": "code",
   "execution_count": 2,
   "id": "bfefea80",
   "metadata": {},
   "outputs": [
    {
     "name": "stdout",
     "output_type": "stream",
     "text": [
      "Hello\n",
      "World!\n"
     ]
    }
   ],
   "source": [
    "print('Hello')\n",
    "print('World!')"
   ]
  },
  {
   "cell_type": "code",
   "execution_count": 3,
   "id": "3d75b0ea",
   "metadata": {},
   "outputs": [
    {
     "name": "stdout",
     "output_type": "stream",
     "text": [
      "Hello.World!\n"
     ]
    }
   ],
   "source": [
    "print('Hello', end='.')\n",
    "print('World!')"
   ]
  },
  {
   "cell_type": "code",
   "execution_count": 4,
   "id": "a30489fe",
   "metadata": {},
   "outputs": [
    {
     "name": "stdout",
     "output_type": "stream",
     "text": [
      "Hello. World!\n"
     ]
    }
   ],
   "source": [
    "print('Hello', end='. ')\n",
    "print('World!')"
   ]
  },
  {
   "cell_type": "code",
   "execution_count": 5,
   "id": "b4cf923c",
   "metadata": {},
   "outputs": [
    {
     "ename": "NameError",
     "evalue": "name 'Danielle' is not defined",
     "output_type": "error",
     "traceback": [
      "\u001b[1;31m---------------------------------------------------------------------------\u001b[0m",
      "\u001b[1;31mNameError\u001b[0m                                 Traceback (most recent call last)",
      "Cell \u001b[1;32mIn[5], line 1\u001b[0m\n\u001b[1;32m----> 1\u001b[0m name \u001b[38;5;241m=\u001b[39m Danielle\n\u001b[0;32m      2\u001b[0m \u001b[38;5;28mprint\u001b[39m(\u001b[38;5;124m'\u001b[39m\u001b[38;5;124mYour name is\u001b[39m\u001b[38;5;124m'\u001b[39m, name, \u001b[38;5;124m'\u001b[39m\u001b[38;5;124mWelcome!\u001b[39m\u001b[38;5;124m'\u001b[39m, sep\u001b[38;5;241m=\u001b[39m\u001b[38;5;124m'\u001b[39m\u001b[38;5;124m-\u001b[39m\u001b[38;5;124m'\u001b[39m)\n",
      "\u001b[1;31mNameError\u001b[0m: name 'Danielle' is not defined"
     ]
    }
   ],
   "source": [
    "name = Danielle\n",
    "print('Your name is', name, 'Welcome!', sep='-')"
   ]
  },
  {
   "cell_type": "code",
   "execution_count": 6,
   "id": "06f90e94",
   "metadata": {},
   "outputs": [
    {
     "ename": "NameError",
     "evalue": "name 'Danielle' is not defined",
     "output_type": "error",
     "traceback": [
      "\u001b[1;31m---------------------------------------------------------------------------\u001b[0m",
      "\u001b[1;31mNameError\u001b[0m                                 Traceback (most recent call last)",
      "Cell \u001b[1;32mIn[6], line 1\u001b[0m\n\u001b[1;32m----> 1\u001b[0m f_name \u001b[38;5;241m=\u001b[39m Danielle\n\u001b[0;32m      2\u001b[0m \u001b[38;5;28mprint\u001b[39m(\u001b[38;5;124m'\u001b[39m\u001b[38;5;124mYour name is\u001b[39m\u001b[38;5;124m'\u001b[39m, f_name, \u001b[38;5;124m'\u001b[39m\u001b[38;5;124mWelcome!\u001b[39m\u001b[38;5;124m'\u001b[39m, sep\u001b[38;5;241m=\u001b[39m\u001b[38;5;124m'\u001b[39m\u001b[38;5;124m-\u001b[39m\u001b[38;5;124m'\u001b[39m)\n",
      "\u001b[1;31mNameError\u001b[0m: name 'Danielle' is not defined"
     ]
    }
   ],
   "source": [
    "f_name = Danielle\n",
    "print('Your name is', f_name, 'Welcome!', sep='-')"
   ]
  },
  {
   "cell_type": "code",
   "execution_count": 7,
   "id": "24b7852e",
   "metadata": {},
   "outputs": [
    {
     "name": "stdout",
     "output_type": "stream",
     "text": [
      "Your name is-Danielle-Welcome!\n"
     ]
    }
   ],
   "source": [
    "name = 'Danielle'\n",
    "print('Your name is', name, 'Welcome!', sep='-')"
   ]
  },
  {
   "cell_type": "code",
   "execution_count": 8,
   "id": "89ec2e50",
   "metadata": {},
   "outputs": [
    {
     "ename": "NameError",
     "evalue": "name 'Danielle' is not defined",
     "output_type": "error",
     "traceback": [
      "\u001b[1;31m---------------------------------------------------------------------------\u001b[0m",
      "\u001b[1;31mNameError\u001b[0m                                 Traceback (most recent call last)",
      "Cell \u001b[1;32mIn[8], line 1\u001b[0m\n\u001b[1;32m----> 1\u001b[0m name \u001b[38;5;241m=\u001b[39m Danielle\n\u001b[0;32m      2\u001b[0m \u001b[38;5;28mprint\u001b[39m(\u001b[38;5;124m'\u001b[39m\u001b[38;5;124mYour name is\u001b[39m\u001b[38;5;124m'\u001b[39m, name, \u001b[38;5;124m'\u001b[39m\u001b[38;5;124mWelcome!\u001b[39m\u001b[38;5;124m'\u001b[39m, sep\u001b[38;5;241m=\u001b[39m\u001b[38;5;124m'\u001b[39m\u001b[38;5;124m-\u001b[39m\u001b[38;5;124m'\u001b[39m, end\u001b[38;5;241m=\u001b[39m\u001b[38;5;124m'\u001b[39m\u001b[38;5;124m'\u001b[39m)\n",
      "\u001b[1;31mNameError\u001b[0m: name 'Danielle' is not defined"
     ]
    }
   ],
   "source": [
    "name = Danielle\n",
    "print('Your name is', name, 'Welcome!', sep='-', end='')"
   ]
  },
  {
   "cell_type": "code",
   "execution_count": 9,
   "id": "f47fd3c1",
   "metadata": {},
   "outputs": [
    {
     "name": "stdout",
     "output_type": "stream",
     "text": [
      "Your name is-Danielle-Welcome!"
     ]
    }
   ],
   "source": [
    "name = 'Danielle'\n",
    "print('Your name is', name, 'Welcome!', sep='-', end='')"
   ]
  },
  {
   "cell_type": "code",
   "execution_count": 10,
   "id": "0a93d522",
   "metadata": {},
   "outputs": [
    {
     "name": "stdout",
     "output_type": "stream",
     "text": [
      "Your name is-Danielle-Welcome!="
     ]
    }
   ],
   "source": [
    "name = 'Danielle'\n",
    "print('Your name is', name, 'Welcome!', sep='-', end='=')"
   ]
  },
  {
   "cell_type": "code",
   "execution_count": null,
   "id": "b0569955",
   "metadata": {},
   "outputs": [],
   "source": []
  }
 ],
 "metadata": {
  "kernelspec": {
   "display_name": "Python 3 (ipykernel)",
   "language": "python",
   "name": "python3"
  },
  "language_info": {
   "codemirror_mode": {
    "name": "ipython",
    "version": 3
   },
   "file_extension": ".py",
   "mimetype": "text/x-python",
   "name": "python",
   "nbconvert_exporter": "python",
   "pygments_lexer": "ipython3",
   "version": "3.11.3"
  }
 },
 "nbformat": 4,
 "nbformat_minor": 5
}
