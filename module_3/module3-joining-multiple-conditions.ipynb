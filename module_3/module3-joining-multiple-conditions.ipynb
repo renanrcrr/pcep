{
 "cells": [
  {
   "cell_type": "code",
   "execution_count": 2,
   "id": "f057966c",
   "metadata": {},
   "outputs": [
    {
     "name": "stdout",
     "output_type": "stream",
     "text": [
      "Enter your age: 22\n",
      "Enter with yout country: Brazil\n",
      "Enter with your password: --secret\n",
      "Sorry, you do not qualify!\n"
     ]
    }
   ],
   "source": [
    "user_age = int(input('Enter your age: '))\n",
    "user_country = input('Enter with yout country: ')\n",
    "user_password = input('Enter with your password: ')\n",
    "\n",
    "if user_password == '--secret':\n",
    "    if user_age < 25 and user_country == 'Germany':\n",
    "        print('You can apply for a new visa')\n",
    "    else:\n",
    "        print('Sorry, you do not qualify!')\n",
    "else:\n",
    "    print('Password incorrect!')"
   ]
  },
  {
   "cell_type": "code",
   "execution_count": 5,
   "id": "a9a305cb",
   "metadata": {},
   "outputs": [
    {
     "name": "stdout",
     "output_type": "stream",
     "text": [
      "What is your country? Austria\n",
      "Failed!\n"
     ]
    }
   ],
   "source": [
    "user_country = input('What is your country? ')\n",
    "\n",
    "if user_country == 'Sweden' or user_country == 'Denmark' \\\n",
    "or user_country == 'Norway' or user_country == 'Brazil' or user_country == 'Australia':\n",
    "    print('Success!')\n",
    "else:\n",
    "    print('Failed!')\n"
   ]
  },
  {
   "cell_type": "code",
   "execution_count": 6,
   "id": "d8d33cb6",
   "metadata": {},
   "outputs": [],
   "source": [
    "# Priorities:\n",
    "# 1.not\n",
    "# 2.and\n",
    "# 3.or"
   ]
  },
  {
   "cell_type": "code",
   "execution_count": 5,
   "id": "6c9a01cb",
   "metadata": {},
   "outputs": [
    {
     "name": "stdout",
     "output_type": "stream",
     "text": [
      "Enter your age: 23\n",
      "Enter with yout country: Germany\n",
      "Enter with your password: --secret\n",
      "You can apply for a new visa\n"
     ]
    }
   ],
   "source": [
    "user_age = int(input('Enter your age: '))\n",
    "user_country = input('Enter with yout country: ')\n",
    "user_password = input('Enter with your password: ')\n",
    "\n",
    "if user_password == '--secret':\n",
    "    if user_country == 'Germany' and user_age < 25 or user_country=='Australia' and user_age < 23:\n",
    "        print('You can apply for a new visa')\n",
    "    else:\n",
    "        print('Sorry, you do not qualify!')\n",
    "else:\n",
    "    print('Password incorrect!')"
   ]
  },
  {
   "cell_type": "code",
   "execution_count": 6,
   "id": "eef4d3a4",
   "metadata": {},
   "outputs": [
    {
     "name": "stdout",
     "output_type": "stream",
     "text": [
      "Enter your age: 26\n",
      "Enter with yout country: Australia\n",
      "Enter with your password: --secret\n",
      "Sorry, you do not qualify!\n"
     ]
    }
   ],
   "source": [
    "user_age = int(input('Enter your age: '))\n",
    "user_country = input('Enter with yout country: ')\n",
    "user_password = input('Enter with your password: ')\n",
    "\n",
    "if user_password == '--secret':\n",
    "    if ((user_country == 'Germany') and user_age < 25) or user_country=='Australia' and user_age < 23:\n",
    "        print('You can apply for a new visa')\n",
    "    else:\n",
    "        print('Sorry, you do not qualify!')\n",
    "else:\n",
    "    print('Password incorrect!')"
   ]
  },
  {
   "cell_type": "code",
   "execution_count": null,
   "id": "e22596fa",
   "metadata": {},
   "outputs": [],
   "source": []
  }
 ],
 "metadata": {
  "kernelspec": {
   "display_name": "Python 3 (ipykernel)",
   "language": "python",
   "name": "python3"
  },
  "language_info": {
   "codemirror_mode": {
    "name": "ipython",
    "version": 3
   },
   "file_extension": ".py",
   "mimetype": "text/x-python",
   "name": "python",
   "nbconvert_exporter": "python",
   "pygments_lexer": "ipython3",
   "version": "3.11.3"
  }
 },
 "nbformat": 4,
 "nbformat_minor": 5
}
