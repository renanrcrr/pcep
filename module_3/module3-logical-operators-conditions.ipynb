{
 "cells": [
  {
   "cell_type": "code",
   "execution_count": 1,
   "id": "b02b0d27",
   "metadata": {},
   "outputs": [],
   "source": [
    "# < less than\n",
    "# > greater than\n",
    "# <= less than or equal \n",
    "# >= greater than or equal\n",
    "# == equals\n",
    "# != not equals"
   ]
  },
  {
   "cell_type": "code",
   "execution_count": 2,
   "id": "7dcf8b17",
   "metadata": {},
   "outputs": [
    {
     "name": "stdout",
     "output_type": "stream",
     "text": [
      "What is your password: --secret\n",
      "correct password!\n"
     ]
    }
   ],
   "source": [
    "password = input('What is your password: ')\n",
    "if password != '--secret':\n",
    "    print('not correct')\n",
    "else:\n",
    "    print('correct password!')"
   ]
  },
  {
   "cell_type": "raw",
   "id": "c632f61e",
   "metadata": {},
   "source": [
    "if True:"
   ]
  },
  {
   "cell_type": "code",
   "execution_count": 4,
   "id": "9b9e2884",
   "metadata": {},
   "outputs": [],
   "source": [
    "if False:\n",
    "    print('...............')"
   ]
  },
  {
   "cell_type": "code",
   "execution_count": 5,
   "id": "40a4913e",
   "metadata": {},
   "outputs": [
    {
     "name": "stdout",
     "output_type": "stream",
     "text": [
      "true\n"
     ]
    }
   ],
   "source": [
    "if 2 == 2.0:\n",
    "    print('true')"
   ]
  },
  {
   "cell_type": "code",
   "execution_count": null,
   "id": "eb261359",
   "metadata": {},
   "outputs": [],
   "source": []
  }
 ],
 "metadata": {
  "kernelspec": {
   "display_name": "Python 3 (ipykernel)",
   "language": "python",
   "name": "python3"
  },
  "language_info": {
   "codemirror_mode": {
    "name": "ipython",
    "version": 3
   },
   "file_extension": ".py",
   "mimetype": "text/x-python",
   "name": "python",
   "nbconvert_exporter": "python",
   "pygments_lexer": "ipython3",
   "version": "3.11.3"
  }
 },
 "nbformat": 4,
 "nbformat_minor": 5
}
