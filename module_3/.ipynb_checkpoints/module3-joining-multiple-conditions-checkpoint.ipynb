{
 "cells": [
  {
   "cell_type": "code",
   "execution_count": 2,
   "id": "db2f0301",
   "metadata": {},
   "outputs": [
    {
     "name": "stdout",
     "output_type": "stream",
     "text": [
      "Enter your age: 20\n",
      "Enter with yout country: Germany\n",
      "You can apply for a new visa\n"
     ]
    }
   ],
   "source": [
    "user_age = int(input('Enter your age: '))\n",
    "user_country = input('Enter with yout country: ')\n",
    "\n",
    "if user_age < 25 and user_country == 'Germany':\n",
    "    print('You can apply for a new visa')\n",
    "else:\n",
    "    print('Sorry, you do not qualify!')"
   ]
  },
  {
   "cell_type": "code",
   "execution_count": null,
   "id": "017f845f",
   "metadata": {},
   "outputs": [],
   "source": []
  }
 ],
 "metadata": {
  "kernelspec": {
   "display_name": "Python 3 (ipykernel)",
   "language": "python",
   "name": "python3"
  },
  "language_info": {
   "codemirror_mode": {
    "name": "ipython",
    "version": 3
   },
   "file_extension": ".py",
   "mimetype": "text/x-python",
   "name": "python",
   "nbconvert_exporter": "python",
   "pygments_lexer": "ipython3",
   "version": "3.11.3"
  }
 },
 "nbformat": 4,
 "nbformat_minor": 5
}
