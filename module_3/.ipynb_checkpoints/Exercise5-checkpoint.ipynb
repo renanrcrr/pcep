{
 "cells": [
  {
   "cell_type": "code",
   "execution_count": 1,
   "id": "3776083a",
   "metadata": {},
   "outputs": [
    {
     "name": "stdout",
     "output_type": "stream",
     "text": [
      "How many days ago you purchased the item?9\n",
      "Have you used the item at all [y/n]?n\n",
      "Has the item broken down on its own [y/n]?y\n",
      "You can get a refund.\n"
     ]
    }
   ],
   "source": [
    "purchase_days_ago = int(input('How many days ago you purchased the item?'))\n",
    "is_used = input('Have you used the item at all [y/n]?')\n",
    "is_broken = input('Has the item broken down on its own [y/n]?')\n",
    "\n",
    "if(is_broken == 'y' or (purchase_days_ago <= 10 and is_used == 'n')):\n",
    "    print('You can get a refund.')\n",
    "else:\n",
    "    print('You cannot get a refund.')"
   ]
  },
  {
   "cell_type": "code",
   "execution_count": null,
   "id": "2a28ea42",
   "metadata": {},
   "outputs": [],
   "source": []
  }
 ],
 "metadata": {
  "kernelspec": {
   "display_name": "Python 3 (ipykernel)",
   "language": "python",
   "name": "python3"
  },
  "language_info": {
   "codemirror_mode": {
    "name": "ipython",
    "version": 3
   },
   "file_extension": ".py",
   "mimetype": "text/x-python",
   "name": "python",
   "nbconvert_exporter": "python",
   "pygments_lexer": "ipython3",
   "version": "3.11.3"
  }
 },
 "nbformat": 4,
 "nbformat_minor": 5
}
