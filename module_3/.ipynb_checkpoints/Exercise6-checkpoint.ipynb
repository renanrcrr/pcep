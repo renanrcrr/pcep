{
 "cells": [
  {
   "cell_type": "code",
   "execution_count": 1,
   "id": "45dcd717",
   "metadata": {},
   "outputs": [
    {
     "ename": "SyntaxError",
     "evalue": "incomplete input (1453630175.py, line 2)",
     "output_type": "error",
     "traceback": [
      "\u001b[1;36m  Cell \u001b[1;32mIn[1], line 2\u001b[1;36m\u001b[0m\n\u001b[1;33m    \u001b[0m\n\u001b[1;37m    ^\u001b[0m\n\u001b[1;31mSyntaxError\u001b[0m\u001b[1;31m:\u001b[0m incomplete input\n"
     ]
    }
   ],
   "source": [
    "while True:\n",
    "    "
   ]
  },
  {
   "cell_type": "code",
   "execution_count": 2,
   "id": "39aa9acc",
   "metadata": {},
   "outputs": [
    {
     "data": {
      "text/plain": [
       "2"
      ]
     },
     "execution_count": 2,
     "metadata": {},
     "output_type": "execute_result"
    }
   ],
   "source": [
    "2 % 5"
   ]
  },
  {
   "cell_type": "code",
   "execution_count": 3,
   "id": "4c78b80b",
   "metadata": {},
   "outputs": [
    {
     "data": {
      "text/plain": [
       "5"
      ]
     },
     "execution_count": 3,
     "metadata": {},
     "output_type": "execute_result"
    }
   ],
   "source": [
    "5 % 90\n"
   ]
  },
  {
   "cell_type": "code",
   "execution_count": 4,
   "id": "fb97af46",
   "metadata": {},
   "outputs": [
    {
     "name": "stdout",
     "output_type": "stream",
     "text": [
      "When was Python 1.0 released?1990\n",
      "It was later that that!\n",
      "When was Python 1.0 released?1800\n",
      "It was later that that!\n",
      "When was Python 1.0 released?2000\n",
      "It was earlier than that!\n",
      "When was Python 1.0 released?1994\n",
      "Correct!\n"
     ]
    }
   ],
   "source": [
    "while True:\n",
    "    answer = int(input('When was Python 1.0 released?'))\n",
    "    if answer > 1994:\n",
    "        print('It was earlier than that!')\n",
    "    elif answer < 1994:\n",
    "        print('It was later that that!')\n",
    "    else:\n",
    "        print('Correct!')\n",
    "        break"
   ]
  },
  {
   "cell_type": "code",
   "execution_count": null,
   "id": "6ae200ca",
   "metadata": {},
   "outputs": [],
   "source": []
  }
 ],
 "metadata": {
  "kernelspec": {
   "display_name": "Python 3 (ipykernel)",
   "language": "python",
   "name": "python3"
  },
  "language_info": {
   "codemirror_mode": {
    "name": "ipython",
    "version": 3
   },
   "file_extension": ".py",
   "mimetype": "text/x-python",
   "name": "python",
   "nbconvert_exporter": "python",
   "pygments_lexer": "ipython3",
   "version": "3.11.3"
  }
 },
 "nbformat": 4,
 "nbformat_minor": 5
}
