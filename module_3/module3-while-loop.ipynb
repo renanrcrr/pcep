{
 "cells": [
  {
   "cell_type": "code",
   "execution_count": 1,
   "id": "5942abcc",
   "metadata": {},
   "outputs": [
    {
     "name": "stdout",
     "output_type": "stream",
     "text": [
      "1\n",
      "2\n",
      "3\n",
      "4\n",
      "5\n",
      "6\n",
      "7\n",
      "8\n",
      "9\n",
      "10\n",
      "Finished!\n"
     ]
    }
   ],
   "source": [
    "counter = 1\n",
    "while counter < 11:\n",
    "    print(counter)\n",
    "    counter += 1\n",
    "print('Finished!')"
   ]
  },
  {
   "cell_type": "code",
   "execution_count": 3,
   "id": "0e7e8194",
   "metadata": {},
   "outputs": [
    {
     "name": "stdout",
     "output_type": "stream",
     "text": [
      "\n",
      "=== SECRET NUMBER GAME ===\n",
      "\n",
      "Try to guess the correct number from 0 to 20: 14\n",
      "You did it!\n"
     ]
    }
   ],
   "source": [
    "secret_number = 14\n",
    "print('''\n",
    "=== SECRET NUMBER GAME ===\n",
    "''')\n",
    "user_input = int(input('Try to guess the correct number from 0 to 20: '))\n",
    "while secret_number != user_input:\n",
    "    print('Incorrect!')\n",
    "    user_input = int(input('Try to guess the correct number from 0 to 20: '))\n",
    "print('You did it!')"
   ]
  },
  {
   "cell_type": "code",
   "execution_count": null,
   "id": "4d6b3396",
   "metadata": {},
   "outputs": [],
   "source": []
  }
 ],
 "metadata": {
  "kernelspec": {
   "display_name": "Python 3 (ipykernel)",
   "language": "python",
   "name": "python3"
  },
  "language_info": {
   "codemirror_mode": {
    "name": "ipython",
    "version": 3
   },
   "file_extension": ".py",
   "mimetype": "text/x-python",
   "name": "python",
   "nbconvert_exporter": "python",
   "pygments_lexer": "ipython3",
   "version": "3.11.3"
  }
 },
 "nbformat": 4,
 "nbformat_minor": 5
}
