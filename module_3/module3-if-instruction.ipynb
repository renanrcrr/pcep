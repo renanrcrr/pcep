{
 "cells": [
  {
   "cell_type": "code",
   "execution_count": 5,
   "id": "3b629866",
   "metadata": {},
   "outputs": [
    {
     "name": "stdout",
     "output_type": "stream",
     "text": [
      "What is your age? 30\n",
      "You are 30 years old\n"
     ]
    }
   ],
   "source": [
    "user_age = int(input('What is your age? '))\n",
    "if user_age > 30:\n",
    "    print('You are over 30 years old')\n",
    "    print('Sorry you are not qualify!')\n",
    "elif user_age == 30:\n",
    "    print('You are 30 years old')\n",
    "else:\n",
    "    print('You are younger!')"
   ]
  },
  {
   "cell_type": "code",
   "execution_count": 4,
   "id": "df10ab1b",
   "metadata": {},
   "outputs": [
    {
     "name": "stdout",
     "output_type": "stream",
     "text": [
      "Qual o comprimento do terreno: 737\n",
      "Qual a largura do terreno: 222\n",
      "Este terreno foi classificado pelo valor de $600.000\n"
     ]
    }
   ],
   "source": [
    "comprimento = float(input(\"Qual o comprimento do terreno: \"))\n",
    "largura = float(input(\"Qual a largura do terreno: \"))\n",
    "terreno = comprimento * largura\n",
    "if terreno > 1000:\n",
    "    print('Este terreno foi classificado pelo valor de $600.000')\n",
    "elif 800 < terreno < 1000:\n",
    "    print('O preço deste terreno está avaliado em $400.000')\n",
    "else:\n",
    "    print('O preço do terreno foi avaliado em $150.000')"
   ]
  },
  {
   "cell_type": "code",
   "execution_count": null,
   "id": "0be3b187",
   "metadata": {},
   "outputs": [],
   "source": []
  }
 ],
 "metadata": {
  "kernelspec": {
   "display_name": "Python 3 (ipykernel)",
   "language": "python",
   "name": "python3"
  },
  "language_info": {
   "codemirror_mode": {
    "name": "ipython",
    "version": 3
   },
   "file_extension": ".py",
   "mimetype": "text/x-python",
   "name": "python",
   "nbconvert_exporter": "python",
   "pygments_lexer": "ipython3",
   "version": "3.11.3"
  }
 },
 "nbformat": 4,
 "nbformat_minor": 5
}
