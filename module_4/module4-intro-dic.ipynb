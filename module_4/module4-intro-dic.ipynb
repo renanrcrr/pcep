{
 "cells": [
  {
   "cell_type": "code",
   "execution_count": 1,
   "id": "9102e61d",
   "metadata": {},
   "outputs": [],
   "source": [
    "emails = {\n",
    "    'Dani Sampaio': 'dani.leals@gmail.com',\n",
    "    'Renan Rodrigues': 'renanrcrr.au@gmail.com',\n",
    "    'Joaquim Rodrigues': 'jjoaquimmr@yahoo.com.br'\n",
    "}"
   ]
  },
  {
   "cell_type": "code",
   "execution_count": 2,
   "id": "5e828bb3",
   "metadata": {},
   "outputs": [
    {
     "name": "stdout",
     "output_type": "stream",
     "text": [
      "dani.leals@gmail.com\n"
     ]
    }
   ],
   "source": [
    "print(emails['Dani Sampaio'])"
   ]
  },
  {
   "cell_type": "code",
   "execution_count": 3,
   "id": "3dd751b4",
   "metadata": {},
   "outputs": [],
   "source": [
    "emails = {\n",
    "    'Dani Sampaio': 'dani.leals@gmail.com',\n",
    "    'Renan Rodrigues': 'renanrcrr.au@gmail.com',\n",
    "    'Joaquim Rodrigues': 'jjoaquimmr@yahoo.com.br', # This is override\n",
    "    'Joaquim Rodrigues': 'josemaria@gmail.com'\n",
    "}"
   ]
  },
  {
   "cell_type": "code",
   "execution_count": 4,
   "id": "764857ad",
   "metadata": {},
   "outputs": [
    {
     "name": "stdout",
     "output_type": "stream",
     "text": [
      "josemaria@gmail.com\n"
     ]
    }
   ],
   "source": [
    "print(emails['Joaquim Rodrigues'])"
   ]
  },
  {
   "cell_type": "code",
   "execution_count": null,
   "id": "0232812f",
   "metadata": {},
   "outputs": [],
   "source": []
  }
 ],
 "metadata": {
  "kernelspec": {
   "display_name": "Python 3 (ipykernel)",
   "language": "python",
   "name": "python3"
  },
  "language_info": {
   "codemirror_mode": {
    "name": "ipython",
    "version": 3
   },
   "file_extension": ".py",
   "mimetype": "text/x-python",
   "name": "python",
   "nbconvert_exporter": "python",
   "pygments_lexer": "ipython3",
   "version": "3.11.3"
  }
 },
 "nbformat": 4,
 "nbformat_minor": 5
}
