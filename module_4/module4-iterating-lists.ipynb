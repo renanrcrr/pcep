{
 "cells": [
  {
   "cell_type": "code",
   "execution_count": 2,
   "id": "2f128429",
   "metadata": {},
   "outputs": [
    {
     "name": "stdout",
     "output_type": "stream",
     "text": [
      "0 | Melbourne\n",
      "1 | Sydney\n",
      "2 | Adelaide\n"
     ]
    }
   ],
   "source": [
    "cities = ['Melbourne', 'Sydney', 'Adelaide']\n",
    "for city_index in range(len(cities)):\n",
    "    print(city_index, '|', cities[city_index])"
   ]
  },
  {
   "cell_type": "code",
   "execution_count": 3,
   "id": "733c0f78",
   "metadata": {},
   "outputs": [
    {
     "name": "stdout",
     "output_type": "stream",
     "text": [
      "111.80000000000001\n"
     ]
    }
   ],
   "source": [
    "spendings = [43.2, 55.2, 8.7, 4.7]\n",
    "sum = 0.0\n",
    "for spending in spendings:\n",
    "    sum += spending\n",
    "print(sum)"
   ]
  },
  {
   "cell_type": "code",
   "execution_count": null,
   "id": "8fdaec32",
   "metadata": {},
   "outputs": [],
   "source": []
  }
 ],
 "metadata": {
  "kernelspec": {
   "display_name": "Python 3 (ipykernel)",
   "language": "python",
   "name": "python3"
  },
  "language_info": {
   "codemirror_mode": {
    "name": "ipython",
    "version": 3
   },
   "file_extension": ".py",
   "mimetype": "text/x-python",
   "name": "python",
   "nbconvert_exporter": "python",
   "pygments_lexer": "ipython3",
   "version": "3.11.3"
  }
 },
 "nbformat": 4,
 "nbformat_minor": 5
}
