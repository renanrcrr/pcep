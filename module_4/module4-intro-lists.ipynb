{
 "cells": [
  {
   "cell_type": "code",
   "execution_count": 1,
   "id": "cd7b1910",
   "metadata": {},
   "outputs": [],
   "source": [
    "empty_list = []\n"
   ]
  },
  {
   "cell_type": "code",
   "execution_count": 2,
   "id": "fb395d8d",
   "metadata": {},
   "outputs": [],
   "source": [
    "top_cities = ['Melbourne', 'Adelaide', 'Perth']"
   ]
  },
  {
   "cell_type": "code",
   "execution_count": 3,
   "id": "2aaefa04",
   "metadata": {},
   "outputs": [
    {
     "name": "stdout",
     "output_type": "stream",
     "text": [
      "['Melbourne', 'Adelaide', 'Perth']\n"
     ]
    }
   ],
   "source": [
    "print(top_cities)"
   ]
  },
  {
   "cell_type": "code",
   "execution_count": 10,
   "id": "2be192a8",
   "metadata": {},
   "outputs": [
    {
     "data": {
      "text/plain": [
       "True"
      ]
     },
     "execution_count": 10,
     "metadata": {},
     "output_type": "execute_result"
    }
   ],
   "source": [
    "top_cities[-3] == top_cities[0]"
   ]
  },
  {
   "cell_type": "code",
   "execution_count": 11,
   "id": "dc87ac76",
   "metadata": {},
   "outputs": [
    {
     "data": {
      "text/plain": [
       "['Melbourne', 'Adelaide']"
      ]
     },
     "execution_count": 11,
     "metadata": {},
     "output_type": "execute_result"
    }
   ],
   "source": [
    "top_cities[0:2]"
   ]
  },
  {
   "cell_type": "code",
   "execution_count": 12,
   "id": "e780d1fc",
   "metadata": {},
   "outputs": [
    {
     "data": {
      "text/plain": [
       "'Perth'"
      ]
     },
     "execution_count": 12,
     "metadata": {},
     "output_type": "execute_result"
    }
   ],
   "source": [
    "top_cities[2]"
   ]
  },
  {
   "cell_type": "code",
   "execution_count": 13,
   "id": "3fcdf36f",
   "metadata": {},
   "outputs": [
    {
     "data": {
      "text/plain": [
       "['Melbourne', 'Adelaide', 'Perth']"
      ]
     },
     "execution_count": 13,
     "metadata": {},
     "output_type": "execute_result"
    }
   ],
   "source": [
    "top_cities[0:]"
   ]
  },
  {
   "cell_type": "code",
   "execution_count": 14,
   "id": "b3d53535",
   "metadata": {},
   "outputs": [
    {
     "data": {
      "text/plain": [
       "['Melbourne', 'Adelaide']"
      ]
     },
     "execution_count": 14,
     "metadata": {},
     "output_type": "execute_result"
    }
   ],
   "source": [
    "top_cities[:2]"
   ]
  },
  {
   "cell_type": "code",
   "execution_count": 15,
   "id": "0bd3cf24",
   "metadata": {},
   "outputs": [
    {
     "data": {
      "text/plain": [
       "['Melbourne', 'Adelaide']"
      ]
     },
     "execution_count": 15,
     "metadata": {},
     "output_type": "execute_result"
    }
   ],
   "source": [
    "top_cities[0:-1]"
   ]
  },
  {
   "cell_type": "code",
   "execution_count": 16,
   "id": "16cbde16",
   "metadata": {},
   "outputs": [
    {
     "data": {
      "text/plain": [
       "[]"
      ]
     },
     "execution_count": 16,
     "metadata": {},
     "output_type": "execute_result"
    }
   ],
   "source": [
    "top_cities[0:-0]"
   ]
  },
  {
   "cell_type": "code",
   "execution_count": 17,
   "id": "66444d84",
   "metadata": {},
   "outputs": [
    {
     "data": {
      "text/plain": [
       "['Melbourne']"
      ]
     },
     "execution_count": 17,
     "metadata": {},
     "output_type": "execute_result"
    }
   ],
   "source": [
    "top_cities[0:-2]"
   ]
  },
  {
   "cell_type": "code",
   "execution_count": 18,
   "id": "31e4ff1d",
   "metadata": {},
   "outputs": [
    {
     "data": {
      "text/plain": [
       "['Melbourne', 'Adelaide', 'Perth']"
      ]
     },
     "execution_count": 18,
     "metadata": {},
     "output_type": "execute_result"
    }
   ],
   "source": [
    "top_cities[:]"
   ]
  },
  {
   "cell_type": "code",
   "execution_count": 19,
   "id": "01ef006a",
   "metadata": {},
   "outputs": [
    {
     "data": {
      "text/plain": [
       "['Melbourne', 'Adelaide', 'Perth']"
      ]
     },
     "execution_count": 19,
     "metadata": {},
     "output_type": "execute_result"
    }
   ],
   "source": [
    "top_cities\n"
   ]
  },
  {
   "cell_type": "code",
   "execution_count": null,
   "id": "e5d0d93e",
   "metadata": {},
   "outputs": [],
   "source": []
  }
 ],
 "metadata": {
  "kernelspec": {
   "display_name": "Python 3 (ipykernel)",
   "language": "python",
   "name": "python3"
  },
  "language_info": {
   "codemirror_mode": {
    "name": "ipython",
    "version": 3
   },
   "file_extension": ".py",
   "mimetype": "text/x-python",
   "name": "python",
   "nbconvert_exporter": "python",
   "pygments_lexer": "ipython3",
   "version": "3.11.3"
  }
 },
 "nbformat": 4,
 "nbformat_minor": 5
}
