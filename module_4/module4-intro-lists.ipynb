{
 "cells": [
  {
   "cell_type": "code",
   "execution_count": 1,
   "id": "cd7b1910",
   "metadata": {},
   "outputs": [],
   "source": [
    "empty_list = []\n"
   ]
  },
  {
   "cell_type": "code",
   "execution_count": 2,
   "id": "fb395d8d",
   "metadata": {},
   "outputs": [],
   "source": [
    "# list allow to work with same elements and different types\n",
    "city_1 = 'Melbourne'\n",
    "city_2 = 'Sydney'\n",
    "city_3 = 'Perth'\n",
    "city_4 = 'Brisbane'\n",
    "city_5 = 'Perth'\n",
    "\n",
    "top_cities = [city_1, city_2, city_3, city_4, city_5]"
   ]
  },
  {
   "cell_type": "code",
   "execution_count": 3,
   "id": "2aaefa04",
   "metadata": {},
   "outputs": [
    {
     "name": "stdout",
     "output_type": "stream",
     "text": [
      "['Melbourne', 'Sydney', 'Perth', 'Brisbane', 'Perth']\n"
     ]
    }
   ],
   "source": [
    "print(top_cities)"
   ]
  },
  {
   "cell_type": "code",
   "execution_count": 5,
   "id": "2be192a8",
   "metadata": {},
   "outputs": [
    {
     "data": {
      "text/plain": [
       "True"
      ]
     },
     "execution_count": 5,
     "metadata": {},
     "output_type": "execute_result"
    }
   ],
   "source": [
    "top_cities[-5] == top_cities[0]"
   ]
  },
  {
   "cell_type": "code",
   "execution_count": 13,
   "id": "dc87ac76",
   "metadata": {},
   "outputs": [
    {
     "data": {
      "text/plain": [
       "['Melbourne', 'Sydney']"
      ]
     },
     "execution_count": 13,
     "metadata": {},
     "output_type": "execute_result"
    }
   ],
   "source": [
    "# 0 = inclusive / 2 = exclusive\n",
    "top_cities[0:2]"
   ]
  },
  {
   "cell_type": "code",
   "execution_count": 9,
   "id": "e780d1fc",
   "metadata": {},
   "outputs": [
    {
     "name": "stdout",
     "output_type": "stream",
     "text": [
      "My friend lives in Perth\n"
     ]
    }
   ],
   "source": [
    "print('My friend lives in ' + top_cities[2])"
   ]
  },
  {
   "cell_type": "code",
   "execution_count": 26,
   "id": "3fcdf36f",
   "metadata": {},
   "outputs": [
    {
     "data": {
      "text/plain": [
       "['Melbourne', 'Sydney', 'Perth', 'Brisbane', 'Perth']"
      ]
     },
     "execution_count": 26,
     "metadata": {},
     "output_type": "execute_result"
    }
   ],
   "source": [
    "# Slace concept\n",
    "# Start with 0 until the last element\n",
    "top_cities[0:] "
   ]
  },
  {
   "cell_type": "code",
   "execution_count": 27,
   "id": "b3d53535",
   "metadata": {},
   "outputs": [
    {
     "data": {
      "text/plain": [
       "True"
      ]
     },
     "execution_count": 27,
     "metadata": {},
     "output_type": "execute_result"
    }
   ],
   "source": [
    "# Slace concept\n",
    "# Start in the initial element and stop in 2 exclusively\n",
    "top_cities[:2] == top_cities[0:2]"
   ]
  },
  {
   "cell_type": "code",
   "execution_count": 28,
   "id": "0bd3cf24",
   "metadata": {},
   "outputs": [
    {
     "data": {
      "text/plain": [
       "['Melbourne', 'Sydney', 'Perth', 'Brisbane']"
      ]
     },
     "execution_count": 28,
     "metadata": {},
     "output_type": "execute_result"
    }
   ],
   "source": [
    "# Slace concept\n",
    "# Start with 0 i(inclusive) and stop in Perth (exclusive)\n",
    "top_cities[0:-1]"
   ]
  },
  {
   "cell_type": "code",
   "execution_count": 25,
   "id": "16cbde16",
   "metadata": {},
   "outputs": [
    {
     "data": {
      "text/plain": [
       "[]"
      ]
     },
     "execution_count": 25,
     "metadata": {},
     "output_type": "execute_result"
    }
   ],
   "source": [
    "# Slace concept\n",
    "top_cities[0:-0]"
   ]
  },
  {
   "cell_type": "code",
   "execution_count": 31,
   "id": "66444d84",
   "metadata": {},
   "outputs": [
    {
     "data": {
      "text/plain": [
       "['Melbourne', 'Sydney', 'Perth']"
      ]
     },
     "execution_count": 31,
     "metadata": {},
     "output_type": "execute_result"
    }
   ],
   "source": [
    "# Slace concept\n",
    "# Include 0 and exclude -2\n",
    "top_cities[0:-2]"
   ]
  },
  {
   "cell_type": "code",
   "execution_count": 33,
   "id": "31e4ff1d",
   "metadata": {},
   "outputs": [
    {
     "data": {
      "text/plain": [
       "['Melbourne', 'Sydney', 'Perth', 'Brisbane', 'Perth']"
      ]
     },
     "execution_count": 33,
     "metadata": {},
     "output_type": "execute_result"
    }
   ],
   "source": [
    "# Slace concept\n",
    "# All the elements\n",
    "top_cities[:]"
   ]
  },
  {
   "cell_type": "code",
   "execution_count": 40,
   "id": "01ef006a",
   "metadata": {},
   "outputs": [
    {
     "data": {
      "text/plain": [
       "['Melbourne', 'Sydney', 'Perth', 'Brisbane', 'Perth']"
      ]
     },
     "execution_count": 40,
     "metadata": {},
     "output_type": "execute_result"
    }
   ],
   "source": [
    "# Slace \n",
    "# When the last number of slace with 2 elements is the size of the list plus any number above the result is always all the elements\n",
    "top_cities[0:6]"
   ]
  },
  {
   "cell_type": "code",
   "execution_count": 42,
   "id": "e5d0d93e",
   "metadata": {},
   "outputs": [
    {
     "data": {
      "text/plain": [
       "'Melbourne'"
      ]
     },
     "execution_count": 42,
     "metadata": {},
     "output_type": "execute_result"
    }
   ],
   "source": [
    "# Return the element itself\n",
    "top_cities[0]"
   ]
  },
  {
   "cell_type": "code",
   "execution_count": 43,
   "id": "f82bd9c4",
   "metadata": {},
   "outputs": [
    {
     "data": {
      "text/plain": [
       "['Melbourne']"
      ]
     },
     "execution_count": 43,
     "metadata": {},
     "output_type": "execute_result"
    }
   ],
   "source": [
    "# Return a list with only one element\n",
    "top_cities[0:1]"
   ]
  },
  {
   "cell_type": "code",
   "execution_count": null,
   "id": "430d91f3",
   "metadata": {},
   "outputs": [],
   "source": []
  }
 ],
 "metadata": {
  "kernelspec": {
   "display_name": "Python 3 (ipykernel)",
   "language": "python",
   "name": "python3"
  },
  "language_info": {
   "codemirror_mode": {
    "name": "ipython",
    "version": 3
   },
   "file_extension": ".py",
   "mimetype": "text/x-python",
   "name": "python",
   "nbconvert_exporter": "python",
   "pygments_lexer": "ipython3",
   "version": "3.11.3"
  }
 },
 "nbformat": 4,
 "nbformat_minor": 5
}
