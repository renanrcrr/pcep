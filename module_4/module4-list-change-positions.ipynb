{
 "cells": [
  {
   "cell_type": "code",
   "execution_count": 1,
   "id": "5680fdf1",
   "metadata": {},
   "outputs": [
    {
     "name": "stdout",
     "output_type": "stream",
     "text": [
      "Number 1: 10\n",
      "Number 2: 20\n",
      "Before swapping:  10 20\n",
      "After swapping:  20 20\n"
     ]
    }
   ],
   "source": [
    "first = input('Number 1: ')\n",
    "second = input('Number 2: ')\n",
    "print('Before swapping: ', first, second)\n",
    "first = second # first value is override, to avoid it need to be use a temp variable\n",
    "print('After swapping: ', first, second)"
   ]
  },
  {
   "cell_type": "code",
   "execution_count": 2,
   "id": "bfe2746c",
   "metadata": {},
   "outputs": [
    {
     "name": "stdout",
     "output_type": "stream",
     "text": [
      "Number 1: 10\n",
      "Number 2: 20\n",
      "Before swapping:  10 20\n",
      "After swapping:  20 10\n"
     ]
    }
   ],
   "source": [
    "first = input('Number 1: ')\n",
    "second = input('Number 2: ')\n",
    "print('Before swapping: ', first, second)\n",
    "temporary = first # Better approach\n",
    "first = second\n",
    "second = temporary\n",
    "print('After swapping: ', first, second)"
   ]
  },
  {
   "cell_type": "code",
   "execution_count": 3,
   "id": "d522463c",
   "metadata": {},
   "outputs": [
    {
     "name": "stdout",
     "output_type": "stream",
     "text": [
      "Number 1: 20\n",
      "Number 2: 30\n",
      "Before swapping:  20 30\n",
      "After swapping:  30 20\n"
     ]
    }
   ],
   "source": [
    "first = input('Number 1: ')\n",
    "second = input('Number 2: ')\n",
    "print('Before swapping: ', first, second)\n",
    "first, second = second, first\n",
    "print('After swapping: ', first, second)"
   ]
  },
  {
   "cell_type": "code",
   "execution_count": 6,
   "id": "6d235696",
   "metadata": {},
   "outputs": [
    {
     "name": "stdout",
     "output_type": "stream",
     "text": [
      "['Adelaide', 'Melbourne', 'Perth', 'Sydney']\n"
     ]
    }
   ],
   "source": [
    "cities = ['Melbourne', 'Sydney', 'Perth', 'Adelaide']\n",
    "cities[0], cities[3] = cities[3], cities[0]\n",
    "cities.sort()\n",
    "print(cities)"
   ]
  },
  {
   "cell_type": "code",
   "execution_count": 10,
   "id": "f0f45d2e",
   "metadata": {},
   "outputs": [
    {
     "name": "stdout",
     "output_type": "stream",
     "text": [
      "['Sydney', 'Perth', 'Melbourne', 'Adelaide']\n",
      "['Adelaide', 'Melbourne', 'Perth', 'Sydney']\n"
     ]
    }
   ],
   "source": [
    "cities = ['Melbourne', 'Sydney', 'Perth', 'Adelaide']\n",
    "cities.sort(reverse=True) # Sort does not return an object\n",
    "print(cities)\n",
    "cities.sort()\n",
    "print(cities)\n"
   ]
  },
  {
   "cell_type": "code",
   "execution_count": 9,
   "id": "5741be93",
   "metadata": {},
   "outputs": [
    {
     "name": "stdout",
     "output_type": "stream",
     "text": [
      "['Melbourne', 'Sydney', 'Perth', 'Adelaide']\n",
      "['Adelaide', 'Melbourne', 'Perth', 'Sydney']\n"
     ]
    }
   ],
   "source": [
    "cities = ['Melbourne', 'Sydney', 'Perth', 'Adelaide']\n",
    "print(cities)\n",
    "print(sorted(cities))"
   ]
  },
  {
   "cell_type": "code",
   "execution_count": 4,
   "id": "2671f400",
   "metadata": {},
   "outputs": [
    {
     "name": "stdout",
     "output_type": "stream",
     "text": [
      "[-3, 0, 2, 5, 8]\n"
     ]
    }
   ],
   "source": [
    "numbers = [2, 5, 0, -3, 8]\n",
    "numbers.sort()\n",
    "print(numbers)"
   ]
  },
  {
   "cell_type": "code",
   "execution_count": null,
   "id": "05955997",
   "metadata": {},
   "outputs": [],
   "source": []
  }
 ],
 "metadata": {
  "kernelspec": {
   "display_name": "Python 3 (ipykernel)",
   "language": "python",
   "name": "python3"
  },
  "language_info": {
   "codemirror_mode": {
    "name": "ipython",
    "version": 3
   },
   "file_extension": ".py",
   "mimetype": "text/x-python",
   "name": "python",
   "nbconvert_exporter": "python",
   "pygments_lexer": "ipython3",
   "version": "3.11.3"
  }
 },
 "nbformat": 4,
 "nbformat_minor": 5
}
