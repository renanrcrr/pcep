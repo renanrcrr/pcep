{
 "cells": [
  {
   "cell_type": "code",
   "execution_count": 2,
   "id": "f46de3cf",
   "metadata": {},
   "outputs": [
    {
     "name": "stdout",
     "output_type": "stream",
     "text": [
      "['A1', 'A2', 'A3']\n",
      "['B1', 'B2', 'B3', 'B4']\n"
     ]
    }
   ],
   "source": [
    "cells = [['A1', 'A2', 'A3'],['B1', 'B2', 'B3', 'B4']]\n",
    "for x in cells:\n",
    "    print(x)"
   ]
  },
  {
   "cell_type": "code",
   "execution_count": 3,
   "id": "2181974d",
   "metadata": {},
   "outputs": [
    {
     "name": "stdout",
     "output_type": "stream",
     "text": [
      "['A1', 'A2', 'A3']\n",
      "['A1', 'A2', 'A3']\n",
      "['B1', 'B2', 'B3', 'B4']\n",
      "['B1', 'B2', 'B3', 'B4']\n"
     ]
    }
   ],
   "source": [
    "cells = [['A1', 'A2', 'A3'],['B1', 'B2', 'B3', 'B4']]\n",
    "for x in cells:\n",
    "    for y in cells:\n",
    "        print(x)"
   ]
  },
  {
   "cell_type": "code",
   "execution_count": 6,
   "id": "cc359959",
   "metadata": {},
   "outputs": [
    {
     "name": "stdout",
     "output_type": "stream",
     "text": [
      "Element:  B4\n",
      "Element:  B4\n",
      "Element:  B4\n",
      "Element:  B4\n",
      "Element:  B4\n",
      "Element:  B4\n",
      "Element:  B4\n"
     ]
    }
   ],
   "source": [
    "cells = [['A1', 'A2', 'A3'],['B1', 'B2', 'B3', 'B4']]\n",
    "for row in cells:\n",
    "    for cell in row:\n",
    "        print('Element: ', y)"
   ]
  },
  {
   "cell_type": "code",
   "execution_count": 10,
   "id": "563afeac",
   "metadata": {},
   "outputs": [
    {
     "name": "stdout",
     "output_type": "stream",
     "text": [
      "A1 A2 A3 \n",
      "B1 B2 B3 B4 \n"
     ]
    }
   ],
   "source": [
    "cells = [['A1', 'A2', 'A3'],['B1', 'B2', 'B3', 'B4']]\n",
    "for row in cells:\n",
    "    for cell in row:\n",
    "        print(cell, '', end='')\n",
    "    print()"
   ]
  },
  {
   "cell_type": "code",
   "execution_count": 14,
   "id": "b60e6cde",
   "metadata": {},
   "outputs": [
    {
     "name": "stdout",
     "output_type": "stream",
     "text": [
      "[[1, 2, 3, 4, 5], [1, 2, 3, 4, 5], [1, 2, 3, 4, 5], [1, 2, 3, 4, 5]]\n"
     ]
    }
   ],
   "source": [
    "# 1 2 3 4 5\n",
    "# 1 2 3 4 5\n",
    "# 1 2 3 4 5\n",
    "# 1 2 3 4 5\n",
    "\n",
    "table = [[i for i in range(1,6)] for j in range(4)]\n",
    "print(table)"
   ]
  },
  {
   "cell_type": "code",
   "execution_count": 1,
   "id": "93a6b026",
   "metadata": {},
   "outputs": [
    {
     "name": "stdout",
     "output_type": "stream",
     "text": [
      "yes\n"
     ]
    }
   ],
   "source": [
    "if 5 == 5.0:\n",
    "        print('yes')\n",
    "else:\n",
    "        print('no')"
   ]
  },
  {
   "cell_type": "code",
   "execution_count": 7,
   "id": "376987a9",
   "metadata": {},
   "outputs": [
    {
     "name": "stdout",
     "output_type": "stream",
     "text": [
      "True\n"
     ]
    }
   ],
   "source": [
    "x = 4\n",
    "y = 5\n",
    "z = 3\n",
    "print(True or z)\n"
   ]
  },
  {
   "cell_type": "code",
   "execution_count": null,
   "id": "732a2986",
   "metadata": {},
   "outputs": [],
   "source": []
  }
 ],
 "metadata": {
  "kernelspec": {
   "display_name": "Python 3 (ipykernel)",
   "language": "python",
   "name": "python3"
  },
  "language_info": {
   "codemirror_mode": {
    "name": "ipython",
    "version": 3
   },
   "file_extension": ".py",
   "mimetype": "text/x-python",
   "name": "python",
   "nbconvert_exporter": "python",
   "pygments_lexer": "ipython3",
   "version": "3.11.3"
  }
 },
 "nbformat": 4,
 "nbformat_minor": 5
}
