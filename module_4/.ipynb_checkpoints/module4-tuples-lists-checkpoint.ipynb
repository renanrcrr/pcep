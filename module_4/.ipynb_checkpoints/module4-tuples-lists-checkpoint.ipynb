{
 "cells": [
  {
   "cell_type": "code",
   "execution_count": 1,
   "id": "f2ad78be",
   "metadata": {},
   "outputs": [],
   "source": [
    "city_1 = ('London', 'UK', 8.98)"
   ]
  },
  {
   "cell_type": "code",
   "execution_count": 3,
   "id": "0a91ac99",
   "metadata": {},
   "outputs": [],
   "source": [
    "city_2 = ('Canberra', 'Australia', 0.4)"
   ]
  },
  {
   "cell_type": "code",
   "execution_count": 4,
   "id": "4a97a3b2",
   "metadata": {},
   "outputs": [],
   "source": [
    "city_3 = ('Algiers', 'Algeria', 3.9)"
   ]
  },
  {
   "cell_type": "code",
   "execution_count": 5,
   "id": "5a8292f0",
   "metadata": {},
   "outputs": [],
   "source": [
    "cities = [city_1, city_2, city_3]"
   ]
  },
  {
   "cell_type": "code",
   "execution_count": 14,
   "id": "8cb7bc7b",
   "metadata": {},
   "outputs": [
    {
     "name": "stdout",
     "output_type": "stream",
     "text": [
      "Name: London, Country: UK, Population: 8.98\n",
      "Name: Canberra, Country: Australia, Population: 0.4\n",
      "Name: Algiers, Country: Algeria, Population: 3.9\n"
     ]
    }
   ],
   "source": [
    "for capital in cities:\n",
    "    print('Name: ', capital[0], ', Country: ', capital[1], ', Population: ', capital[2], sep='')"
   ]
  },
  {
   "cell_type": "code",
   "execution_count": 15,
   "id": "4bb7b9d1",
   "metadata": {},
   "outputs": [],
   "source": [
    "user_data = ('Osley', 'Brazilian', 1951, [22.4, 64.9, 12.4])\n",
    "user_data[3].append(10.4)"
   ]
  },
  {
   "cell_type": "code",
   "execution_count": 16,
   "id": "e3aa76eb",
   "metadata": {},
   "outputs": [
    {
     "name": "stdout",
     "output_type": "stream",
     "text": [
      "('Osley', 'Brazilian', 1951, [22.4, 64.9, 12.4, 10.4])\n"
     ]
    }
   ],
   "source": [
    "print(user_data)"
   ]
  },
  {
   "cell_type": "code",
   "execution_count": null,
   "id": "61ce6aed",
   "metadata": {},
   "outputs": [],
   "source": []
  }
 ],
 "metadata": {
  "kernelspec": {
   "display_name": "Python 3 (ipykernel)",
   "language": "python",
   "name": "python3"
  },
  "language_info": {
   "codemirror_mode": {
    "name": "ipython",
    "version": 3
   },
   "file_extension": ".py",
   "mimetype": "text/x-python",
   "name": "python",
   "nbconvert_exporter": "python",
   "pygments_lexer": "ipython3",
   "version": "3.11.3"
  }
 },
 "nbformat": 4,
 "nbformat_minor": 5
}
