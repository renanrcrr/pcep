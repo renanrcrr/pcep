{
 "cells": [
  {
   "cell_type": "code",
   "execution_count": 1,
   "id": "54c470c6",
   "metadata": {},
   "outputs": [],
   "source": [
    "grades = {}"
   ]
  },
  {
   "cell_type": "code",
   "execution_count": 3,
   "id": "ac67c307",
   "metadata": {},
   "outputs": [],
   "source": [
    "grades['Dani'] = 'A+'\n",
    "grades['Renan'] = 'B-'"
   ]
  },
  {
   "cell_type": "code",
   "execution_count": 4,
   "id": "436b106d",
   "metadata": {},
   "outputs": [
    {
     "name": "stdout",
     "output_type": "stream",
     "text": [
      "{'Dani': 'A+', 'Renan': 'B-'}\n"
     ]
    }
   ],
   "source": [
    "print(grades)"
   ]
  },
  {
   "cell_type": "code",
   "execution_count": 5,
   "id": "d642333d",
   "metadata": {},
   "outputs": [
    {
     "name": "stdout",
     "output_type": "stream",
     "text": [
      "{'Dani': 'A+', 'Renan': 'C+'}\n"
     ]
    }
   ],
   "source": [
    "grades['Renan'] = 'C+'\n",
    "print(grades)"
   ]
  },
  {
   "cell_type": "code",
   "execution_count": 6,
   "id": "06cadb1e",
   "metadata": {},
   "outputs": [],
   "source": [
    "grades.update({'Dani': 'B-'})"
   ]
  },
  {
   "cell_type": "code",
   "execution_count": 7,
   "id": "2a0b0514",
   "metadata": {},
   "outputs": [
    {
     "name": "stdout",
     "output_type": "stream",
     "text": [
      "{'Dani': 'B-', 'Renan': 'C+'}\n"
     ]
    }
   ],
   "source": [
    "print(grades)"
   ]
  },
  {
   "cell_type": "code",
   "execution_count": 8,
   "id": "e7ac93d8",
   "metadata": {},
   "outputs": [
    {
     "data": {
      "text/plain": [
       "2"
      ]
     },
     "execution_count": 8,
     "metadata": {},
     "output_type": "execute_result"
    }
   ],
   "source": [
    "len(grades)"
   ]
  },
  {
   "cell_type": "code",
   "execution_count": 9,
   "id": "b4a93951",
   "metadata": {},
   "outputs": [
    {
     "name": "stdout",
     "output_type": "stream",
     "text": [
      "{'Dani': 'B-'}\n"
     ]
    }
   ],
   "source": [
    "del grades['Renan']\n",
    "print(grades)"
   ]
  },
  {
   "cell_type": "code",
   "execution_count": 11,
   "id": "d9ca74a4",
   "metadata": {},
   "outputs": [],
   "source": [
    "grades = {}\n",
    "grades['Dani'] = 'A+'\n",
    "grades['Renan'] = 'B-'"
   ]
  },
  {
   "cell_type": "code",
   "execution_count": 13,
   "id": "fc8c34a1",
   "metadata": {},
   "outputs": [
    {
     "name": "stdout",
     "output_type": "stream",
     "text": [
      "Dani\n",
      "Renan\n"
     ]
    }
   ],
   "source": [
    "for el in grades:\n",
    "    print(el)"
   ]
  },
  {
   "cell_type": "code",
   "execution_count": 15,
   "id": "f40e4b07",
   "metadata": {},
   "outputs": [
    {
     "name": "stdout",
     "output_type": "stream",
     "text": [
      "Dani\n",
      "Renan\n"
     ]
    }
   ],
   "source": [
    "for el in grades.keys():\n",
    "    print(el)"
   ]
  },
  {
   "cell_type": "code",
   "execution_count": 16,
   "id": "1fa7ead8",
   "metadata": {},
   "outputs": [
    {
     "name": "stdout",
     "output_type": "stream",
     "text": [
      "A+\n",
      "B-\n"
     ]
    }
   ],
   "source": [
    "for el in grades.values():\n",
    "    print(el)"
   ]
  },
  {
   "cell_type": "code",
   "execution_count": 18,
   "id": "2623da41",
   "metadata": {},
   "outputs": [
    {
     "name": "stdout",
     "output_type": "stream",
     "text": [
      "Dani got A+\n",
      "Renan got B-\n"
     ]
    }
   ],
   "source": [
    "for person, grade in grades.items():\n",
    "    print(person, 'got', grade)"
   ]
  },
  {
   "cell_type": "code",
   "execution_count": 8,
   "id": "99c0b291",
   "metadata": {},
   "outputs": [
    {
     "name": "stdout",
     "output_type": "stream",
     "text": [
      "Enter a word in English or EXIT: face\n",
      "Translation: Gesicht\n",
      "Enter a word in English or EXIT: EXIT\n",
      "Bye!\n"
     ]
    }
   ],
   "source": [
    "sample_dict = {\n",
    "    \"mouth\": \"Mund\",\n",
    "    \"finger\": \"Finger\",\n",
    "    \"leg\": \"Bein\",\n",
    "    \"hand\": \"Hand\",\n",
    "    \"face\": \"Gesicht\",\n",
    "    \"nose\": \"Nase\"\n",
    "}\n",
    " \n",
    "while True:\n",
    "    user_input = input('Enter a word in English or EXIT: ')\n",
    "    if user_input == 'EXIT':\n",
    "        break\n",
    "    if user_input in sample_dict:\n",
    "        print ('Translation:', sample_dict[user_input])\n",
    "    else:\n",
    "        print('No match!')\n",
    " \n",
    "print('Bye!')"
   ]
  },
  {
   "cell_type": "code",
   "execution_count": null,
   "id": "363f3517",
   "metadata": {},
   "outputs": [],
   "source": []
  }
 ],
 "metadata": {
  "kernelspec": {
   "display_name": "Python 3 (ipykernel)",
   "language": "python",
   "name": "python3"
  },
  "language_info": {
   "codemirror_mode": {
    "name": "ipython",
    "version": 3
   },
   "file_extension": ".py",
   "mimetype": "text/x-python",
   "name": "python",
   "nbconvert_exporter": "python",
   "pygments_lexer": "ipython3",
   "version": "3.11.3"
  }
 },
 "nbformat": 4,
 "nbformat_minor": 5
}
