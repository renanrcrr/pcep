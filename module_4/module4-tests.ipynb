{
 "cells": [
  {
   "cell_type": "code",
   "execution_count": 1,
   "id": "39fbb44e",
   "metadata": {},
   "outputs": [],
   "source": [
    "list_a = [1, 2, 3]\n",
    "list_b = list_a[-2:-1]\n",
    "list_c = list_a[-1:-2]"
   ]
  },
  {
   "cell_type": "code",
   "execution_count": 2,
   "id": "9d93a992",
   "metadata": {},
   "outputs": [
    {
     "name": "stdout",
     "output_type": "stream",
     "text": [
      "[1, 2, 3] [2] []\n"
     ]
    }
   ],
   "source": [
    "print(list_a,list_b,list_c)"
   ]
  },
  {
   "cell_type": "code",
   "execution_count": 3,
   "id": "167fa57e",
   "metadata": {},
   "outputs": [
    {
     "name": "stdout",
     "output_type": "stream",
     "text": [
      "[1, 3, 2, 4, 5]\n"
     ]
    }
   ],
   "source": [
    "my_vals = [1, 2, 3, 4, 5]\n",
    "my_vals[1], my_vals[2] = my_vals[2], my_vals[1]\n",
    "print(my_vals)"
   ]
  },
  {
   "cell_type": "code",
   "execution_count": null,
   "id": "54a1fdfe",
   "metadata": {},
   "outputs": [],
   "source": []
  }
 ],
 "metadata": {
  "kernelspec": {
   "display_name": "Python 3 (ipykernel)",
   "language": "python",
   "name": "python3"
  },
  "language_info": {
   "codemirror_mode": {
    "name": "ipython",
    "version": 3
   },
   "file_extension": ".py",
   "mimetype": "text/x-python",
   "name": "python",
   "nbconvert_exporter": "python",
   "pygments_lexer": "ipython3",
   "version": "3.11.3"
  }
 },
 "nbformat": 4,
 "nbformat_minor": 5
}
