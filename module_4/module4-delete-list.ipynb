{
 "cells": [
  {
   "cell_type": "code",
   "execution_count": 1,
   "id": "7993a6d0",
   "metadata": {},
   "outputs": [
    {
     "name": "stdout",
     "output_type": "stream",
     "text": [
      "['Melbourne', 'Sydney', 'Perth', 'Cairns']\n"
     ]
    }
   ],
   "source": [
    "top_cities = ['Melbourne', 'Sydney', 'Adelaide', 'Perth', 'Cairns']\n",
    "del top_cities[2]\n",
    "print(top_cities)"
   ]
  },
  {
   "cell_type": "code",
   "execution_count": 2,
   "id": "d90eba83",
   "metadata": {},
   "outputs": [],
   "source": [
    "top_cities = ['Melbourne', 'Sydney', 'Adelaide', 'Perth', 'Cairns']\n",
    "del top_cities[2:]"
   ]
  },
  {
   "cell_type": "code",
   "execution_count": 3,
   "id": "d45fb145",
   "metadata": {},
   "outputs": [
    {
     "name": "stdout",
     "output_type": "stream",
     "text": [
      "['Melbourne', 'Sydney']\n"
     ]
    }
   ],
   "source": [
    "print(top_cities)"
   ]
  },
  {
   "cell_type": "code",
   "execution_count": 4,
   "id": "47f688db",
   "metadata": {},
   "outputs": [
    {
     "name": "stdout",
     "output_type": "stream",
     "text": [
      "[]\n"
     ]
    }
   ],
   "source": [
    "top_cities = ['Melbourne', 'Sydney', 'Adelaide', 'Perth', 'Cairns', 'Geelong']\n",
    "del top_cities[:]\n",
    "print(top_cities)"
   ]
  },
  {
   "cell_type": "code",
   "execution_count": 5,
   "id": "73c3e52c",
   "metadata": {},
   "outputs": [
    {
     "name": "stdout",
     "output_type": "stream",
     "text": [
      "['Adelaide', 'Perth', 'Cairns']\n"
     ]
    }
   ],
   "source": [
    "top_cities = ['Melbourne', 'Sydney', 'Adelaide', 'Perth', 'Cairns']\n",
    "del top_cities[:2]\n",
    "print(top_cities)"
   ]
  },
  {
   "cell_type": "code",
   "execution_count": null,
   "id": "8801878d",
   "metadata": {},
   "outputs": [],
   "source": []
  }
 ],
 "metadata": {
  "kernelspec": {
   "display_name": "Python 3 (ipykernel)",
   "language": "python",
   "name": "python3"
  },
  "language_info": {
   "codemirror_mode": {
    "name": "ipython",
    "version": 3
   },
   "file_extension": ".py",
   "mimetype": "text/x-python",
   "name": "python",
   "nbconvert_exporter": "python",
   "pygments_lexer": "ipython3",
   "version": "3.11.3"
  }
 },
 "nbformat": 4,
 "nbformat_minor": 5
}
