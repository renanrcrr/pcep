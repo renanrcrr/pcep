{
 "cells": [
  {
   "cell_type": "code",
   "execution_count": 1,
   "id": "f1738915",
   "metadata": {},
   "outputs": [
    {
     "name": "stdout",
     "output_type": "stream",
     "text": [
      "What is your name? Renan\n",
      "You are not invited!\n"
     ]
    }
   ],
   "source": [
    "invited_names = ['Adrian', 'Joao', 'Carlos', 'Dani']\n",
    "name = input('What is your name? ')\n",
    "if name in invited_names:\n",
    "    print('Welcome!')\n",
    "else:\n",
    "    print('You are not invited!')"
   ]
  },
  {
   "cell_type": "code",
   "execution_count": 2,
   "id": "fc8517f9",
   "metadata": {},
   "outputs": [
    {
     "name": "stdout",
     "output_type": "stream",
     "text": [
      "What is your name? Renan\n",
      "You are not invited!\n"
     ]
    }
   ],
   "source": [
    "invited_names = ['Adrian', 'Joao', 'Carlos', 'Dani']\n",
    "name = input('What is your name? ')\n",
    "if name not in invited_names:\n",
    "    print('You are not invited!')\n",
    "else:\n",
    "    print('Welcome!')"
   ]
  },
  {
   "cell_type": "code",
   "execution_count": null,
   "id": "59dc7c3e",
   "metadata": {},
   "outputs": [],
   "source": []
  }
 ],
 "metadata": {
  "kernelspec": {
   "display_name": "Python 3 (ipykernel)",
   "language": "python",
   "name": "python3"
  },
  "language_info": {
   "codemirror_mode": {
    "name": "ipython",
    "version": 3
   },
   "file_extension": ".py",
   "mimetype": "text/x-python",
   "name": "python",
   "nbconvert_exporter": "python",
   "pygments_lexer": "ipython3",
   "version": "3.11.3"
  }
 },
 "nbformat": 4,
 "nbformat_minor": 5
}
