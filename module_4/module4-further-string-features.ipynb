{
 "cells": [
  {
   "cell_type": "code",
   "execution_count": 2,
   "id": "fcdb08c0",
   "metadata": {},
   "outputs": [
    {
     "name": "stdout",
     "output_type": "stream",
     "text": [
      "Green \n",
      " Band\n"
     ]
    }
   ],
   "source": [
    "fav_band = 'Green Band'\n",
    "print(fav_band[:6]) # From G to B exclusively\n",
    "print(fav_band[5:]) # From B to the end list"
   ]
  },
  {
   "cell_type": "code",
   "execution_count": 4,
   "id": "7b2d47d1",
   "metadata": {},
   "outputs": [
    {
     "name": "stdout",
     "output_type": "stream",
     "text": [
      "PLEASE CAPITALIZE ME\n",
      "please capitalize me\n"
     ]
    }
   ],
   "source": [
    "text = 'please capitalize me'\n",
    "text_cap = text.upper() # Return a new string \n",
    "text_low = text.lower() # Return a new String \n",
    "print(text_cap)\n",
    "print(text_low)"
   ]
  },
  {
   "cell_type": "code",
   "execution_count": 7,
   "id": "d9a96fa2",
   "metadata": {},
   "outputs": [
    {
     "name": "stdout",
     "output_type": "stream",
     "text": [
      "Please provide a number: 3\n",
      "Thank you!\n"
     ]
    }
   ],
   "source": [
    "user_number = input('Please provide a number: ') # This number is a number as str\n",
    "if user_number.isnumeric() and type(user_number) == str:\n",
    "    print('Thank you!')\n",
    "else:\n",
    "    print('Sorry!')"
   ]
  },
  {
   "cell_type": "code",
   "execution_count": null,
   "id": "7230bb65",
   "metadata": {},
   "outputs": [],
   "source": []
  }
 ],
 "metadata": {
  "kernelspec": {
   "display_name": "Python 3 (ipykernel)",
   "language": "python",
   "name": "python3"
  },
  "language_info": {
   "codemirror_mode": {
    "name": "ipython",
    "version": 3
   },
   "file_extension": ".py",
   "mimetype": "text/x-python",
   "name": "python",
   "nbconvert_exporter": "python",
   "pygments_lexer": "ipython3",
   "version": "3.11.3"
  }
 },
 "nbformat": 4,
 "nbformat_minor": 5
}
