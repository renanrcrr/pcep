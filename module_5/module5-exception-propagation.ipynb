{
 "cells": [
  {
   "cell_type": "code",
   "execution_count": 2,
   "id": "ed5c5a1d",
   "metadata": {},
   "outputs": [
    {
     "name": "stdout",
     "output_type": "stream",
     "text": [
      "Hi, I will collect some info about your bad day!\n",
      "What is the day of your bday? 12\n",
      "What is the month [1 - 12] of your bday? 12\n",
      "What is the year of your bday? r\n",
      "You entered incorrect data, bye!\n"
     ]
    }
   ],
   "source": [
    "def get_day(user_info):\n",
    "    day = int(input('What is the day of your bday? '))\n",
    "    user_info.append(day)\n",
    "\n",
    "def get_month(user_info):\n",
    "    month = int(input('What is the month [1 - 12] of your bday? '))\n",
    "    user_info.append(month)\n",
    "\n",
    "def get_year(user_info):\n",
    "    year = int(input('What is the year of your bday? '))\n",
    "    user_info.append(year)\n",
    "\n",
    "def get_user_bday(user_info):\n",
    "    try:\n",
    "        get_day(user_info)\n",
    "        get_month(user_info)\n",
    "        get_year(user_info)\n",
    "        print('So your bday is', user_info)\n",
    "    except ValueError:\n",
    "        print('You entered incorrect data, bye!')\n",
    "\n",
    "print('Hi, I will collect some info about your bad day!')\n",
    "user_info = []\n",
    "get_user_bday(user_info)"
   ]
  },
  {
   "cell_type": "code",
   "execution_count": null,
   "id": "adf8c9a7",
   "metadata": {},
   "outputs": [],
   "source": []
  }
 ],
 "metadata": {
  "kernelspec": {
   "display_name": "Python 3 (ipykernel)",
   "language": "python",
   "name": "python3"
  },
  "language_info": {
   "codemirror_mode": {
    "name": "ipython",
    "version": 3
   },
   "file_extension": ".py",
   "mimetype": "text/x-python",
   "name": "python",
   "nbconvert_exporter": "python",
   "pygments_lexer": "ipython3",
   "version": "3.11.3"
  }
 },
 "nbformat": 4,
 "nbformat_minor": 5
}
