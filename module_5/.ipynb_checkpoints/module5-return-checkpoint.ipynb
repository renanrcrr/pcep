{
 "cells": [
  {
   "cell_type": "code",
   "execution_count": 1,
   "id": "e1fb9a83",
   "metadata": {},
   "outputs": [],
   "source": [
    "def get_avg(input_numbers):\n",
    "    sum = 0.0\n",
    "    for number in input_numbers:\n",
    "        sum += number\n",
    "    avg = sum / len(input_numbers)\n",
    "    return avg # return avg to caller"
   ]
  },
  {
   "cell_type": "code",
   "execution_count": 5,
   "id": "99e84b97",
   "metadata": {},
   "outputs": [],
   "source": [
    "print('The avg is:', get_avg([2,6.7,5.8,3,9]))"
   ]
  },
  {
   "cell_type": "code",
   "execution_count": 6,
   "id": "a0eae11a",
   "metadata": {},
   "outputs": [],
   "source": [
    "print(get_avg([2,6.7,5.8,3,9]))"
   ]
  },
  {
   "cell_type": "code",
   "execution_count": 1,
   "id": "5a164fb2",
   "metadata": {},
   "outputs": [],
   "source": [
    "counter = 0\n",
    "while counter < 8:\n",
    "    counter += 2\n",
    "    if counter % 2 == 0:\n",
    "        continue\n",
    "    print(\"#\")"
   ]
  },
  {
   "cell_type": "code",
   "execution_count": 3,
   "id": "a23f8ce8",
   "metadata": {},
   "outputs": [
    {
     "name": "stdout",
     "output_type": "stream",
     "text": [
      "True\n"
     ]
    }
   ],
   "source": [
    "list1 = [1, 2, 3]\n",
    "list2 = list1[:] \n",
    "print(list1 == list2)"
   ]
  },
  {
   "cell_type": "code",
   "execution_count": 4,
   "id": "fcfcbd14",
   "metadata": {},
   "outputs": [
    {
     "data": {
      "text/plain": [
       "1"
      ]
     },
     "execution_count": 4,
     "metadata": {},
     "output_type": "execute_result"
    }
   ],
   "source": [
    "2 // 2"
   ]
  },
  {
   "cell_type": "code",
   "execution_count": 5,
   "id": "aef65b65",
   "metadata": {},
   "outputs": [
    {
     "data": {
      "text/plain": [
       "1.0"
      ]
     },
     "execution_count": 5,
     "metadata": {},
     "output_type": "execute_result"
    }
   ],
   "source": [
    "2 / 2"
   ]
  },
  {
   "cell_type": "code",
   "execution_count": 6,
   "id": "5e093bac",
   "metadata": {},
   "outputs": [
    {
     "data": {
      "text/plain": [
       "1.0"
      ]
     },
     "execution_count": 6,
     "metadata": {},
     "output_type": "execute_result"
    }
   ],
   "source": [
    "2 // 2.0"
   ]
  },
  {
   "cell_type": "code",
   "execution_count": 7,
   "id": "84614876",
   "metadata": {},
   "outputs": [
    {
     "name": "stdout",
     "output_type": "stream",
     "text": [
      "{'one': 1, 'two': 5, 'three': 3, 'four': 8}\n"
     ]
    }
   ],
   "source": [
    "dict = {'one': 1, 'two': 2, 'three': 3}\n",
    "dict2 = {'one': 1, 'two': 5, 'four': 8}\n",
    "dict.update(dict2)\n",
    "print(dict)"
   ]
  },
  {
   "cell_type": "code",
   "execution_count": 10,
   "id": "47cf8231",
   "metadata": {},
   "outputs": [
    {
     "name": "stdout",
     "output_type": "stream",
     "text": [
      "AA\n"
     ]
    }
   ],
   "source": [
    "tennis_ranking = {\n",
    "    1: 'Ashleigh Barty',\n",
    "    2: 'Naomi Osaka',\n",
    "    3: 'Simona Halep'\n",
    "}\n",
    "for key in tennis_ranking.keys():\n",
    "    tennis_ranking[key] = tennis_ranking[key][0]\n",
    "print(tennis_ranking[1]*2)"
   ]
  },
  {
   "cell_type": "code",
   "execution_count": 14,
   "id": "fe15e02c",
   "metadata": {},
   "outputs": [
    {
     "name": "stdout",
     "output_type": "stream",
     "text": [
      "[0, 1, 2, 3]\n"
     ]
    }
   ],
   "source": [
    "def func():\n",
    "  for i in range(4):\n",
    "    yield i\n",
    " \n",
    "print(list(func()))"
   ]
  },
  {
   "cell_type": "code",
   "execution_count": null,
   "id": "9d18b675",
   "metadata": {},
   "outputs": [],
   "source": []
  }
 ],
 "metadata": {
  "kernelspec": {
   "display_name": "Python 3 (ipykernel)",
   "language": "python",
   "name": "python3"
  },
  "language_info": {
   "codemirror_mode": {
    "name": "ipython",
    "version": 3
   },
   "file_extension": ".py",
   "mimetype": "text/x-python",
   "name": "python",
   "nbconvert_exporter": "python",
   "pygments_lexer": "ipython3",
   "version": "3.11.3"
  }
 },
 "nbformat": 4,
 "nbformat_minor": 5
}
