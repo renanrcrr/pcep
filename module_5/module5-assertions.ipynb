{
 "cells": [
  {
   "cell_type": "code",
   "execution_count": 6,
   "id": "c7a485e7",
   "metadata": {},
   "outputs": [
    {
     "ename": "AssertionError",
     "evalue": "Got 0 as a number!",
     "output_type": "error",
     "traceback": [
      "\u001b[1;31m---------------------------------------------------------------------------\u001b[0m",
      "\u001b[1;31mAssertionError\u001b[0m                            Traceback (most recent call last)",
      "Cell \u001b[1;32mIn[6], line 5\u001b[0m\n\u001b[0;32m      2\u001b[0m     \u001b[38;5;28;01massert\u001b[39;00m (number \u001b[38;5;241m!=\u001b[39m \u001b[38;5;241m0\u001b[39m), \u001b[38;5;124m'\u001b[39m\u001b[38;5;124mGot 0 as a number!\u001b[39m\u001b[38;5;124m'\u001b[39m\n\u001b[0;32m      3\u001b[0m     \u001b[38;5;28;01mreturn\u001b[39;00m \u001b[38;5;241m1\u001b[39m\u001b[38;5;241m/\u001b[39mnumber\n\u001b[1;32m----> 5\u001b[0m calculate_inverse(\u001b[38;5;241m0\u001b[39m)\n",
      "Cell \u001b[1;32mIn[6], line 2\u001b[0m, in \u001b[0;36mcalculate_inverse\u001b[1;34m(number)\u001b[0m\n\u001b[0;32m      1\u001b[0m \u001b[38;5;28;01mdef\u001b[39;00m \u001b[38;5;21mcalculate_inverse\u001b[39m(number):\n\u001b[1;32m----> 2\u001b[0m     \u001b[38;5;28;01massert\u001b[39;00m (number \u001b[38;5;241m!=\u001b[39m \u001b[38;5;241m0\u001b[39m), \u001b[38;5;124m'\u001b[39m\u001b[38;5;124mGot 0 as a number!\u001b[39m\u001b[38;5;124m'\u001b[39m\n\u001b[0;32m      3\u001b[0m     \u001b[38;5;28;01mreturn\u001b[39;00m \u001b[38;5;241m1\u001b[39m\u001b[38;5;241m/\u001b[39mnumber\n",
      "\u001b[1;31mAssertionError\u001b[0m: Got 0 as a number!"
     ]
    }
   ],
   "source": [
    "'''\n",
    "USE assertions:\n",
    "1.For debugging/testing your code\n",
    "2.For documenting your code\n",
    "\n",
    "DO NOT:\n",
    "1.Validate user input with assertions\n",
    "2.Handle AssertionErrors in try...except\n",
    "\n",
    "'''\n",
    "\n",
    "def calculate_inverse(number):\n",
    "    assert (number != 0), 'Got 0 as a number!' # Run that str when not satisfact the assert\n",
    "    return 1/number\n",
    "\n",
    "calculate_inverse(0)"
   ]
  },
  {
   "cell_type": "code",
   "execution_count": null,
   "id": "558cb5bb",
   "metadata": {},
   "outputs": [],
   "source": []
  }
 ],
 "metadata": {
  "kernelspec": {
   "display_name": "Python 3 (ipykernel)",
   "language": "python",
   "name": "python3"
  },
  "language_info": {
   "codemirror_mode": {
    "name": "ipython",
    "version": 3
   },
   "file_extension": ".py",
   "mimetype": "text/x-python",
   "name": "python",
   "nbconvert_exporter": "python",
   "pygments_lexer": "ipython3",
   "version": "3.11.3"
  }
 },
 "nbformat": 4,
 "nbformat_minor": 5
}
