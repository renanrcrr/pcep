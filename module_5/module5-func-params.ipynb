{
 "cells": [
  {
   "cell_type": "code",
   "execution_count": 7,
   "id": "d0dc6d1f",
   "metadata": {},
   "outputs": [],
   "source": [
    "def func_avg(input_numbers): # params\n",
    "    sum = 0.0\n",
    "    for n in input_numbers:\n",
    "        sum += n\n",
    "\n",
    "    avg = sum/len(input_numbers)\n",
    "    \n",
    "    print(avg)"
   ]
  },
  {
   "cell_type": "code",
   "execution_count": 8,
   "id": "a34ee4ac",
   "metadata": {},
   "outputs": [
    {
     "name": "stdout",
     "output_type": "stream",
     "text": [
      "4.6\n"
     ]
    }
   ],
   "source": [
    "func_avg([3.2, 6.8, 5.9, 2.5]) # argument"
   ]
  },
  {
   "cell_type": "code",
   "execution_count": 9,
   "id": "906b89e7",
   "metadata": {},
   "outputs": [],
   "source": [
    "def print_letter_count(text, letter):\n",
    "    count = 0\n",
    "    for char in text:\n",
    "        if char == letter:\n",
    "            count += 1\n",
    "    print('Number of', letter , 'is', count)"
   ]
  },
  {
   "cell_type": "code",
   "execution_count": 10,
   "id": "764a21d1",
   "metadata": {},
   "outputs": [
    {
     "name": "stdout",
     "output_type": "stream",
     "text": [
      "Number of e is 2\n"
     ]
    }
   ],
   "source": [
    "print_letter_count('Welcome', 'e')"
   ]
  },
  {
   "cell_type": "code",
   "execution_count": 12,
   "id": "047bd6b8",
   "metadata": {},
   "outputs": [
    {
     "name": "stdout",
     "output_type": "stream",
     "text": [
      "Number of e is 2\n"
     ]
    }
   ],
   "source": [
    "print_letter_count(text='Welcome', letter='e')"
   ]
  },
  {
   "cell_type": "code",
   "execution_count": null,
   "id": "c584e977",
   "metadata": {},
   "outputs": [],
   "source": []
  }
 ],
 "metadata": {
  "kernelspec": {
   "display_name": "Python 3 (ipykernel)",
   "language": "python",
   "name": "python3"
  },
  "language_info": {
   "codemirror_mode": {
    "name": "ipython",
    "version": 3
   },
   "file_extension": ".py",
   "mimetype": "text/x-python",
   "name": "python",
   "nbconvert_exporter": "python",
   "pygments_lexer": "ipython3",
   "version": "3.11.3"
  }
 },
 "nbformat": 4,
 "nbformat_minor": 5
}
