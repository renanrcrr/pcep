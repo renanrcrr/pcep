{
 "cells": [
  {
   "cell_type": "code",
   "execution_count": 7,
   "id": "001b004e",
   "metadata": {},
   "outputs": [
    {
     "name": "stdout",
     "output_type": "stream",
     "text": [
      "surprise!\n",
      "new surprise!\n",
      "new surprise!\n"
     ]
    }
   ],
   "source": [
    "def show_truth():\n",
    "    global misterious_var\n",
    "    misterious_var = 'new surprise!'    \n",
    "    print(misterious_var)\n",
    "\n",
    "misterious_var = 'surprise!'    \n",
    "print(misterious_var)\n",
    "show_truth()\n",
    "print(misterious_var)"
   ]
  },
  {
   "cell_type": "code",
   "execution_count": 8,
   "id": "c495ce5e",
   "metadata": {},
   "outputs": [
    {
     "name": "stdout",
     "output_type": "stream",
     "text": [
      "['surprise!']\n",
      "['new surprise!']\n",
      "['surprise!']\n"
     ]
    }
   ],
   "source": [
    "def show_truth():\n",
    "    misterious_var = ['new surprise!']    \n",
    "    print(misterious_var)\n",
    "\n",
    "misterious_var = ['surprise!']\n",
    "print(misterious_var)\n",
    "show_truth()\n",
    "print(misterious_var)"
   ]
  },
  {
   "cell_type": "code",
   "execution_count": 9,
   "id": "760914eb",
   "metadata": {},
   "outputs": [
    {
     "name": "stdout",
     "output_type": "stream",
     "text": [
      "['surprise!']\n",
      "['surprise!', 'new surprise!']\n",
      "['surprise!', 'new surprise!']\n"
     ]
    }
   ],
   "source": [
    "def show_truth():\n",
    "    misterious_var.append('new surprise!') \n",
    "    print(misterious_var)\n",
    "\n",
    "misterious_var = ['surprise!']\n",
    "print(misterious_var)\n",
    "show_truth()\n",
    "print(misterious_var)"
   ]
  },
  {
   "cell_type": "code",
   "execution_count": null,
   "id": "34993497",
   "metadata": {},
   "outputs": [],
   "source": []
  }
 ],
 "metadata": {
  "kernelspec": {
   "display_name": "Python 3 (ipykernel)",
   "language": "python",
   "name": "python3"
  },
  "language_info": {
   "codemirror_mode": {
    "name": "ipython",
    "version": 3
   },
   "file_extension": ".py",
   "mimetype": "text/x-python",
   "name": "python",
   "nbconvert_exporter": "python",
   "pygments_lexer": "ipython3",
   "version": "3.11.3"
  }
 },
 "nbformat": 4,
 "nbformat_minor": 5
}
